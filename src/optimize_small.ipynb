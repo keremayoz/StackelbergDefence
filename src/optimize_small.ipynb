{
 "cells": [
  {
   "cell_type": "code",
   "execution_count": 3,
   "metadata": {},
   "outputs": [
    {
     "data": {
      "text/html": [
       "<style>.container { width:75% !important; }</style>"
      ],
      "text/plain": [
       "<IPython.core.display.HTML object>"
      ]
     },
     "metadata": {},
     "output_type": "display_data"
    }
   ],
   "source": [
    "import pandas as pd\n",
    "import numpy as np\n",
    "import random\n",
    "import math\n",
    "import itertools\n",
    "import warnings\n",
    "import pickle\n",
    "import gc\n",
    "import sys\n",
    "import matplotlib.pyplot as plt\n",
    "from os.path import join, isfile\n",
    "from collections import Counter\n",
    "from scipy.special import gamma\n",
    "\n",
    "import pyomo.environ as pe\n",
    "from pao.pyomo import *\n",
    "\n",
    "warnings.filterwarnings('ignore')\n",
    "np.set_printoptions(suppress=True, formatter={'float': lambda x: \"{0:0.2f}\".format(x)})\n",
    "from IPython.core.display import display, HTML\n",
    "display(HTML(\"<style>.container { width:75% !important; }</style>\"))"
   ]
  },
  {
   "cell_type": "markdown",
   "metadata": {},
   "source": [
    "### Step 1: Load Beacon, MAF, Reference and other cached variables"
   ]
  },
  {
   "cell_type": "code",
   "execution_count": 6,
   "metadata": {},
   "outputs": [],
   "source": [
    "mainPath = \"../../data\"\n",
    "beacons = join(mainPath, \"beacon\")\n",
    "ceuPath = join(beacons, \"CEU\")"
   ]
  },
  {
   "cell_type": "code",
   "execution_count": 7,
   "metadata": {},
   "outputs": [],
   "source": [
    "# CEU\n",
    "beacon = pd.read_csv(join(ceuPath, \"Beacon_164.txt\"), index_col=0, delim_whitespace=True)\n",
    "maf = pd.read_csv(join(ceuPath, \"MAF.txt\"), index_col=0, delim_whitespace=True)\n",
    "reference = pickle.load(open(join(ceuPath, \"reference.pickle\"),\"rb\"))"
   ]
  },
  {
   "cell_type": "code",
   "execution_count": 8,
   "metadata": {},
   "outputs": [],
   "source": [
    "binary = np.logical_and(beacon.values != reference, beacon.values != \"NN\").astype(int)\n",
    "\n",
    "maf.rename(columns = {'referenceAllele':'major', 'referenceAlleleFrequency':'major_freq', \n",
    "                      'otherAllele':'minor', 'otherAlleleFrequency':'minor_freq'}, inplace = True)\n",
    "\n",
    "beacon_people = np.arange(65)\n",
    "other_people = np.arange(99)+65\n",
    "all_people = np.arange(164)"
   ]
  },
  {
   "cell_type": "code",
   "execution_count": 9,
   "metadata": {},
   "outputs": [],
   "source": [
    "# Construct beacons and the victim\n",
    "shuffled = np.random.permutation(all_people)\n",
    "\n",
    "victim_ind = shuffled[0]\n",
    "a_cind = shuffled[1:21]\n",
    "s_cind = shuffled[21:41]\n",
    "\n",
    "s_ind = shuffled[41:101]\n",
    "\n",
    "s_beacon = binary[:, np.concatenate([s_ind,np.array([victim_ind])])]\n",
    "#s_beacon = binary[:, s_ind]\n",
    "\n",
    "a_control = binary[:, a_cind]\n",
    "s_control = binary[:, s_cind]\n",
    "\n",
    "victim = binary[:, victim_ind]"
   ]
  },
  {
   "cell_type": "code",
   "execution_count": null,
   "metadata": {},
   "outputs": [],
   "source": []
  },
  {
   "cell_type": "code",
   "execution_count": null,
   "metadata": {},
   "outputs": [],
   "source": []
  },
  {
   "cell_type": "code",
   "execution_count": null,
   "metadata": {},
   "outputs": [],
   "source": []
  },
  {
   "cell_type": "code",
   "execution_count": null,
   "metadata": {},
   "outputs": [],
   "source": []
  },
  {
   "cell_type": "code",
   "execution_count": null,
   "metadata": {},
   "outputs": [],
   "source": []
  },
  {
   "cell_type": "code",
   "execution_count": null,
   "metadata": {},
   "outputs": [],
   "source": []
  },
  {
   "cell_type": "code",
   "execution_count": null,
   "metadata": {},
   "outputs": [],
   "source": []
  },
  {
   "cell_type": "code",
   "execution_count": null,
   "metadata": {},
   "outputs": [],
   "source": []
  },
  {
   "cell_type": "code",
   "execution_count": null,
   "metadata": {},
   "outputs": [],
   "source": []
  },
  {
   "cell_type": "markdown",
   "metadata": {},
   "source": [
    "## Objective\n",
    "$max_{a \\in A} U_{A_i}(a, s*) \\quad\\text{subject to}\\quad s* \\in argmax_{s' \\in S} U_{S_i}(a, s')$"
   ]
  },
  {
   "cell_type": "code",
   "execution_count": 155,
   "metadata": {},
   "outputs": [],
   "source": [
    "# Create a model object\n",
    "M = pe.ConcreteModel()\n",
    "hps = np.random.uniform(low=0.9, high=1, size=(6,))\n",
    "M.parameters = pe.Set(initialize=['parameters'])\n",
    "\n",
    "# Index Sets\n",
    "M.i = pe.RangeSet(1, s_beacon.shape[1])\n",
    "\n",
    "# Define decision variables\n",
    "#M.ai = pe.Var(bounds=(0,s_beacon.shape[1]))\n",
    "M.ai = pe.RangeSet(1, s_beacon.shape[1])\n",
    "M.si = pe.Var(bounds=(0,1), initialize=1)\n",
    "\n",
    "#M.Ai = pe.Param(M.i, mutable=True)\n",
    "#M.Si = pe.Param(M.i, mutable=True)\n",
    "\n",
    "M.p_prev_victim = pe.Param(mutable=True)\n",
    "M.p_prev_donors = pe.Param(np.arange(20), mutable=True)"
   ]
  },
  {
   "cell_type": "code",
   "execution_count": 156,
   "metadata": {},
   "outputs": [],
   "source": [
    "# Define the upper-level objective\n",
    "M.o = pe.Objective(rule=U_A_i) ### UA_i"
   ]
  },
  {
   "cell_type": "code",
   "execution_count": 157,
   "metadata": {},
   "outputs": [],
   "source": [
    "# Create a SubModel component to declare a lower-level problem\n",
    "# The variable M.ai is fixed in this lower-level problem\n",
    "M.L = SubModel(fixed=M.ai)"
   ]
  },
  {
   "cell_type": "code",
   "execution_count": null,
   "metadata": {},
   "outputs": [],
   "source": [
    "# Define the lower-level objective\n",
    "M.L.o = pe.Objective(expr=M.y) ### US_i\n",
    "\n",
    "# Define lower-level constraints\n",
    "M.L.c1 = pe.Constraint(expr=   -M.x -   M.y <= -3)\n",
    "M.L.c2 = pe.Constraint(expr= -2*M.x +   M.y <=  0)\n",
    "M.L.c3 = pe.Constraint(expr=  2*M.x +   M.y <= 12)\n",
    "M.L.c4 = pe.Constraint(expr=  3*M.x - 2*M.y <=  4)"
   ]
  },
  {
   "cell_type": "code",
   "execution_count": 158,
   "metadata": {
    "scrolled": true
   },
   "outputs": [
    {
     "ename": "AttributeError",
     "evalue": "'NoneType' object has no attribute 'transpose'",
     "output_type": "error",
     "traceback": [
      "\u001b[0;31m---------------------------------------------------------------------------\u001b[0m",
      "\u001b[0;31mAttributeError\u001b[0m                            Traceback (most recent call last)",
      "\u001b[0;32m<ipython-input-158-47559e6b2c83>\u001b[0m in \u001b[0;36m<module>\u001b[0;34m\u001b[0m\n\u001b[1;32m      1\u001b[0m \u001b[0;31m# Create a solver and apply it\u001b[0m\u001b[0;34m\u001b[0m\u001b[0;34m\u001b[0m\u001b[0;34m\u001b[0m\u001b[0m\n\u001b[1;32m      2\u001b[0m \u001b[0;32mwith\u001b[0m \u001b[0mSolver\u001b[0m\u001b[0;34m(\u001b[0m\u001b[0;34m'pao.pyomo.FA'\u001b[0m\u001b[0;34m)\u001b[0m \u001b[0;32mas\u001b[0m \u001b[0msolver\u001b[0m\u001b[0;34m:\u001b[0m\u001b[0;34m\u001b[0m\u001b[0;34m\u001b[0m\u001b[0m\n\u001b[0;32m----> 3\u001b[0;31m     \u001b[0mresults\u001b[0m \u001b[0;34m=\u001b[0m \u001b[0msolver\u001b[0m\u001b[0;34m.\u001b[0m\u001b[0msolve\u001b[0m\u001b[0;34m(\u001b[0m\u001b[0mM\u001b[0m\u001b[0;34m)\u001b[0m\u001b[0;34m\u001b[0m\u001b[0;34m\u001b[0m\u001b[0m\n\u001b[0m\u001b[1;32m      4\u001b[0m \u001b[0;34m\u001b[0m\u001b[0m\n\u001b[1;32m      5\u001b[0m \u001b[0;31m# The final solution is loaded into the model\u001b[0m\u001b[0;34m\u001b[0m\u001b[0;34m\u001b[0m\u001b[0;34m\u001b[0m\u001b[0m\n",
      "\u001b[0;32m~/kerem/pao/pao/pyomo/solvers/mpr_solvers.py\u001b[0m in \u001b[0;36msolve\u001b[0;34m(self, model, **options)\u001b[0m\n\u001b[1;32m     34\u001b[0m \u001b[0;34m\u001b[0m\u001b[0m\n\u001b[1;32m     35\u001b[0m     \u001b[0;32mdef\u001b[0m \u001b[0msolve\u001b[0m\u001b[0;34m(\u001b[0m\u001b[0mself\u001b[0m\u001b[0;34m,\u001b[0m \u001b[0mmodel\u001b[0m\u001b[0;34m,\u001b[0m \u001b[0;34m**\u001b[0m\u001b[0moptions\u001b[0m\u001b[0;34m)\u001b[0m\u001b[0;34m:\u001b[0m\u001b[0;34m\u001b[0m\u001b[0;34m\u001b[0m\u001b[0m\n\u001b[0;32m---> 36\u001b[0;31m         \u001b[0;32mreturn\u001b[0m \u001b[0msuper\u001b[0m\u001b[0;34m(\u001b[0m\u001b[0;34m)\u001b[0m\u001b[0;34m.\u001b[0m\u001b[0msolve\u001b[0m\u001b[0;34m(\u001b[0m\u001b[0mmodel\u001b[0m\u001b[0;34m,\u001b[0m \u001b[0;34m**\u001b[0m\u001b[0moptions\u001b[0m\u001b[0;34m)\u001b[0m\u001b[0;34m\u001b[0m\u001b[0;34m\u001b[0m\u001b[0m\n\u001b[0m\u001b[1;32m     37\u001b[0m \u001b[0;34m\u001b[0m\u001b[0m\n\u001b[1;32m     38\u001b[0m \u001b[0mpao\u001b[0m\u001b[0;34m.\u001b[0m\u001b[0mcommon\u001b[0m\u001b[0;34m.\u001b[0m\u001b[0mSolverAPI\u001b[0m\u001b[0;34m.\u001b[0m\u001b[0m_generate_solve_docstring\u001b[0m\u001b[0;34m(\u001b[0m\u001b[0mPyomoSubmodelSolver_FA\u001b[0m\u001b[0;34m)\u001b[0m\u001b[0;34m\u001b[0m\u001b[0;34m\u001b[0m\u001b[0m\n",
      "\u001b[0;32m~/kerem/pao/pao/pyomo/solver.py\u001b[0m in \u001b[0;36msolve\u001b[0;34m(self, model, **options)\u001b[0m\n\u001b[1;32m     64\u001b[0m         \u001b[0mresults\u001b[0m \u001b[0;34m=\u001b[0m \u001b[0mPyomoSubmodelResults\u001b[0m\u001b[0;34m(\u001b[0m\u001b[0msolution_manager\u001b[0m\u001b[0;34m=\u001b[0m\u001b[0msoln_manager\u001b[0m\u001b[0;34m)\u001b[0m\u001b[0;34m\u001b[0m\u001b[0;34m\u001b[0m\u001b[0m\n\u001b[1;32m     65\u001b[0m         \u001b[0;32mwith\u001b[0m \u001b[0mpao\u001b[0m\u001b[0;34m.\u001b[0m\u001b[0mcommon\u001b[0m\u001b[0;34m.\u001b[0m\u001b[0mSolver\u001b[0m\u001b[0;34m(\u001b[0m\u001b[0mself\u001b[0m\u001b[0;34m.\u001b[0m\u001b[0mlmp_solver\u001b[0m\u001b[0;34m)\u001b[0m \u001b[0;32mas\u001b[0m \u001b[0mopt\u001b[0m\u001b[0;34m:\u001b[0m\u001b[0;34m\u001b[0m\u001b[0;34m\u001b[0m\u001b[0m\n\u001b[0;32m---> 66\u001b[0;31m             \u001b[0mlmp_results\u001b[0m \u001b[0;34m=\u001b[0m \u001b[0mopt\u001b[0m\u001b[0;34m.\u001b[0m\u001b[0msolve\u001b[0m\u001b[0;34m(\u001b[0m\u001b[0mlmp\u001b[0m\u001b[0;34m,\u001b[0m \u001b[0;34m**\u001b[0m\u001b[0msolver_options\u001b[0m\u001b[0;34m)\u001b[0m\u001b[0;34m\u001b[0m\u001b[0;34m\u001b[0m\u001b[0m\n\u001b[0m\u001b[1;32m     67\u001b[0m \u001b[0;34m\u001b[0m\u001b[0m\n\u001b[1;32m     68\u001b[0m             \u001b[0mself\u001b[0m\u001b[0;34m.\u001b[0m\u001b[0m_initialize_results\u001b[0m\u001b[0;34m(\u001b[0m\u001b[0mresults\u001b[0m\u001b[0;34m,\u001b[0m \u001b[0mlmp_results\u001b[0m\u001b[0;34m,\u001b[0m \u001b[0mmodel\u001b[0m\u001b[0;34m,\u001b[0m \u001b[0mlmp\u001b[0m\u001b[0;34m,\u001b[0m \u001b[0moptions\u001b[0m\u001b[0;34m)\u001b[0m\u001b[0;34m\u001b[0m\u001b[0;34m\u001b[0m\u001b[0m\n",
      "\u001b[0;32m~/kerem/pao/pao/mpr/solvers/fa.py\u001b[0m in \u001b[0;36msolve\u001b[0;34m(self, model, **options)\u001b[0m\n\u001b[1;32m     81\u001b[0m         \u001b[0mself\u001b[0m\u001b[0;34m.\u001b[0m\u001b[0mstandard_form\u001b[0m\u001b[0;34m,\u001b[0m \u001b[0msoln_manager\u001b[0m \u001b[0;34m=\u001b[0m \u001b[0mconvert_to_standard_form\u001b[0m\u001b[0;34m(\u001b[0m\u001b[0mmodel\u001b[0m\u001b[0;34m,\u001b[0m \u001b[0minequalities\u001b[0m\u001b[0;34m=\u001b[0m\u001b[0;32mFalse\u001b[0m\u001b[0;34m)\u001b[0m\u001b[0;34m\u001b[0m\u001b[0;34m\u001b[0m\u001b[0m\n\u001b[1;32m     82\u001b[0m \u001b[0;34m\u001b[0m\u001b[0m\n\u001b[0;32m---> 83\u001b[0;31m         \u001b[0mM\u001b[0m \u001b[0;34m=\u001b[0m \u001b[0mself\u001b[0m\u001b[0;34m.\u001b[0m\u001b[0m_create_pyomo_model\u001b[0m\u001b[0;34m(\u001b[0m\u001b[0mself\u001b[0m\u001b[0;34m.\u001b[0m\u001b[0mstandard_form\u001b[0m\u001b[0;34m,\u001b[0m \u001b[0mself\u001b[0m\u001b[0;34m.\u001b[0m\u001b[0mconfig\u001b[0m\u001b[0;34m.\u001b[0m\u001b[0mbigm\u001b[0m\u001b[0;34m)\u001b[0m\u001b[0;34m\u001b[0m\u001b[0;34m\u001b[0m\u001b[0m\n\u001b[0m\u001b[1;32m     84\u001b[0m         \u001b[0;31m#\u001b[0m\u001b[0;34m\u001b[0m\u001b[0;34m\u001b[0m\u001b[0;34m\u001b[0m\u001b[0m\n\u001b[1;32m     85\u001b[0m         \u001b[0;31m# Solve the Pyomo model the specified solver\u001b[0m\u001b[0;34m\u001b[0m\u001b[0;34m\u001b[0m\u001b[0;34m\u001b[0m\u001b[0m\n",
      "\u001b[0;32m~/kerem/pao/pao/mpr/solvers/fa.py\u001b[0m in \u001b[0;36m_create_pyomo_model\u001b[0;34m(self, repn, bigM)\u001b[0m\n\u001b[1;32m    139\u001b[0m \u001b[0;34m\u001b[0m\u001b[0m\n\u001b[1;32m    140\u001b[0m     \u001b[0;32mdef\u001b[0m \u001b[0m_create_pyomo_model\u001b[0m\u001b[0;34m(\u001b[0m\u001b[0mself\u001b[0m\u001b[0;34m,\u001b[0m \u001b[0mrepn\u001b[0m\u001b[0;34m,\u001b[0m \u001b[0mbigM\u001b[0m\u001b[0;34m)\u001b[0m\u001b[0;34m:\u001b[0m\u001b[0;34m\u001b[0m\u001b[0;34m\u001b[0m\u001b[0m\n\u001b[0;32m--> 141\u001b[0;31m         \u001b[0mM\u001b[0m \u001b[0;34m=\u001b[0m \u001b[0mcreate_model_replacing_LL_with_kkt\u001b[0m\u001b[0;34m(\u001b[0m\u001b[0mrepn\u001b[0m\u001b[0;34m)\u001b[0m\u001b[0;34m\u001b[0m\u001b[0;34m\u001b[0m\u001b[0m\n\u001b[0m\u001b[1;32m    142\u001b[0m         \u001b[0;31m#\u001b[0m\u001b[0;34m\u001b[0m\u001b[0;34m\u001b[0m\u001b[0;34m\u001b[0m\u001b[0m\n\u001b[1;32m    143\u001b[0m         \u001b[0;31m# Transform the problem to a MIP\u001b[0m\u001b[0;34m\u001b[0m\u001b[0;34m\u001b[0m\u001b[0;34m\u001b[0m\u001b[0m\n",
      "\u001b[0;32m~/kerem/pao/pao/mpr/solvers/reg.py\u001b[0m in \u001b[0;36mcreate_model_replacing_LL_with_kkt\u001b[0;34m(repn)\u001b[0m\n\u001b[1;32m     63\u001b[0m         \u001b[0mM\u001b[0m\u001b[0;34m.\u001b[0m\u001b[0mkkt\u001b[0m\u001b[0;34m[\u001b[0m\u001b[0mi\u001b[0m\u001b[0;34m]\u001b[0m\u001b[0;34m.\u001b[0m\u001b[0mstationarity\u001b[0m \u001b[0;34m=\u001b[0m \u001b[0mpe\u001b[0m\u001b[0;34m.\u001b[0m\u001b[0mConstraintList\u001b[0m\u001b[0;34m(\u001b[0m\u001b[0;34m)\u001b[0m\u001b[0;34m\u001b[0m\u001b[0;34m\u001b[0m\u001b[0m\n\u001b[1;32m     64\u001b[0m         \u001b[0;31m# L_A_L' * lam\u001b[0m\u001b[0;34m\u001b[0m\u001b[0;34m\u001b[0m\u001b[0;34m\u001b[0m\u001b[0m\n\u001b[0;32m---> 65\u001b[0;31m         \u001b[0mL_A_L_T\u001b[0m \u001b[0;34m=\u001b[0m \u001b[0mL\u001b[0m\u001b[0;34m.\u001b[0m\u001b[0mA\u001b[0m\u001b[0;34m[\u001b[0m\u001b[0mL\u001b[0m\u001b[0;34m]\u001b[0m\u001b[0;34m.\u001b[0m\u001b[0mtranspose\u001b[0m\u001b[0;34m(\u001b[0m\u001b[0;34m)\u001b[0m\u001b[0;34m.\u001b[0m\u001b[0mtodok\u001b[0m\u001b[0;34m(\u001b[0m\u001b[0;34m)\u001b[0m\u001b[0;34m\u001b[0m\u001b[0;34m\u001b[0m\u001b[0m\n\u001b[0m\u001b[1;32m     66\u001b[0m         \u001b[0mX\u001b[0m \u001b[0;34m=\u001b[0m \u001b[0mpyomo_util\u001b[0m\u001b[0;34m.\u001b[0m\u001b[0mdot\u001b[0m\u001b[0;34m(\u001b[0m \u001b[0mL_A_L_T\u001b[0m\u001b[0;34m,\u001b[0m \u001b[0mM\u001b[0m\u001b[0;34m.\u001b[0m\u001b[0mkkt\u001b[0m\u001b[0;34m[\u001b[0m\u001b[0mi\u001b[0m\u001b[0;34m]\u001b[0m\u001b[0;34m.\u001b[0m\u001b[0mlam\u001b[0m \u001b[0;34m)\u001b[0m\u001b[0;34m\u001b[0m\u001b[0;34m\u001b[0m\u001b[0m\n\u001b[1;32m     67\u001b[0m         \u001b[0;32mif\u001b[0m \u001b[0mL\u001b[0m\u001b[0;34m.\u001b[0m\u001b[0mc\u001b[0m\u001b[0;34m[\u001b[0m\u001b[0mL\u001b[0m\u001b[0;34m]\u001b[0m \u001b[0;32mis\u001b[0m \u001b[0;32mnot\u001b[0m \u001b[0;32mNone\u001b[0m\u001b[0;34m:\u001b[0m\u001b[0;34m\u001b[0m\u001b[0;34m\u001b[0m\u001b[0m\n",
      "\u001b[0;31mAttributeError\u001b[0m: 'NoneType' object has no attribute 'transpose'"
     ]
    }
   ],
   "source": [
    "# Create a solver and apply it\n",
    "with Solver('pao.pyomo.FA') as solver:\n",
    "    results = solver.solve(M)\n",
    "\n",
    "# The final solution is loaded into the model\n",
    "print(M.ai.value)\n",
    "print(M.si.value)"
   ]
  },
  {
   "cell_type": "code",
   "execution_count": null,
   "metadata": {},
   "outputs": [],
   "source": []
  },
  {
   "cell_type": "code",
   "execution_count": null,
   "metadata": {},
   "outputs": [],
   "source": []
  },
  {
   "cell_type": "code",
   "execution_count": null,
   "metadata": {},
   "outputs": [],
   "source": []
  },
  {
   "cell_type": "code",
   "execution_count": 150,
   "metadata": {},
   "outputs": [],
   "source": [
    "def U_A_i(model):\n",
    "    #ai, si, Ai, Si, p_prev, i\n",
    "    # Current p-value\n",
    " \n",
    "    victim_delta, control_delta = optimal_lrt(victim, a_control, s_beacon, model.ai, model.si, model.i)\n",
    "    p_victim_current = p_value(victim_delta, control_delta)\n",
    "\n",
    "    # Gain-Loss=Utility\n",
    "    attacker_utility = utility_attacker(model.ai, model.si, model.p_prev_victim, p_victim_current, model.i, hps)\n",
    "    model.p_prev_victim = p_victim_current\n",
    "    return attacker_utility\n",
    "\n",
    "def U_S_i(model):\n",
    "    #ai, si, Ai, Si, p_prev, i\n",
    "    # Current p-value\n",
    "    p_donors_current = np.zeros(s_beacon.shape[1])\n",
    "    \n",
    "    for j in range(s_beacon.shape[1]):\n",
    "        victim_delta, control_delta = optimal_lrt(s_beacon[:, j], s_control, s_beacon, model.ai, model.si, model.i+1)\n",
    "        p_donors_current[j] = p_value(victim_delta, control_delta)\n",
    "\n",
    "    sharer_utility =  utility_sharer(model.ai, model.si, model.p_prev_donors, p_donors_current, hps)\n",
    "    model.p_prev_donors = p_donors_current\n",
    "    return sharer_utility"
   ]
  },
  {
   "cell_type": "code",
   "execution_count": 151,
   "metadata": {},
   "outputs": [],
   "source": [
    "# n: Num query\n",
    "\n",
    "def calculate_optimal_delta(num_people, response, n, maf):\n",
    "    DN_i = np.power((1-maf), (2*num_people))\n",
    "    DN_i_1 = np.power((1-maf), (2*num_people-2))\n",
    "    \n",
    "    log1 = np.log(DN_i/(error*DN_i_1))\n",
    "    log2 = np.log((error*DN_i_1 * (1-DN_i)) / (DN_i * (1-error*DN_i_1)))\n",
    "\n",
    "    return log1 + log2*response\n",
    "\n",
    "def optimal_lrt(victim, control_people, beacon, A, S, num_query):\n",
    "    control_size = control_people.shape[1]\n",
    "    beacon_size = beacon.shape[1]\n",
    "    \n",
    "    response = beacon[A].any(axis=1)*pe.value(S)    \n",
    "    maf_i = maf.iloc[A][\"maf\"].values + 1e-6\n",
    "    \n",
    "    # Delta\n",
    "    delta = calculate_optimal_delta(beacon_size, response, num_query, maf_i)\n",
    "\n",
    "    # Victim delta   \n",
    "    victim_delta = np.sum(np.dot(delta, victim[A]))\n",
    "    \n",
    "    # Control delta\n",
    "    control_delta = np.dot(delta, control_people[A])\n",
    "    \n",
    "    return victim_delta, control_delta"
   ]
  },
  {
   "cell_type": "code",
   "execution_count": null,
   "metadata": {},
   "outputs": [],
   "source": []
  },
  {
   "cell_type": "code",
   "execution_count": null,
   "metadata": {},
   "outputs": [],
   "source": []
  },
  {
   "cell_type": "code",
   "execution_count": null,
   "metadata": {},
   "outputs": [],
   "source": []
  },
  {
   "cell_type": "markdown",
   "metadata": {},
   "source": [
    "### Step 2: Function definitions"
   ]
  },
  {
   "cell_type": "markdown",
   "metadata": {},
   "source": [
    "###### SB LRT"
   ]
  },
  {
   "cell_type": "code",
   "execution_count": 13,
   "metadata": {},
   "outputs": [],
   "source": [
    "# n: Num query\n",
    "a=1.6483\n",
    "b=2.2876\n",
    "error=0.001\n",
    "\n",
    "def calculate_sb_delta(num_people, response, n):\n",
    "    DN = gamma(a + b) / (gamma(b) * (2*num_people + a + b)**a)\n",
    "    DN_1 = gamma(a + b) / (gamma(b) * (2*(num_people-1) + a + b)**a)\n",
    "    \n",
    "    B = np.log(DN / (DN_1 * error)) \n",
    "    C = np.log((error * DN_1 * (1 - DN)) / (DN*(1-error*DN_1)))\n",
    "    return n*B + C*response\n",
    "\n",
    "def sb_lrt(victim, control_people, beacon, A, S, num_query):\n",
    "    control_size = control_people.shape[1]\n",
    "    beacon_size = beacon.shape[1]\n",
    "    \n",
    "    response = beacon[A].any(axis=1)*S    \n",
    "    \n",
    "    # Delta\n",
    "    delta = calculate_sb_delta(beacon_size, response, num_query)\n",
    "    \n",
    "    # Victim delta\n",
    "    victim_delta = np.sum(np.dot(delta, victim[A]))\n",
    "    \n",
    "    # Control delta\n",
    "    control_delta = np.dot(delta, control_people[A])\n",
    "\n",
    "    return victim_delta, control_delta"
   ]
  },
  {
   "cell_type": "markdown",
   "metadata": {},
   "source": [
    "###### Optimal LRT"
   ]
  },
  {
   "cell_type": "code",
   "execution_count": 142,
   "metadata": {},
   "outputs": [],
   "source": [
    "# n: Num query\n",
    "\n",
    "def calculate_optimal_delta(num_people, response, n, maf):\n",
    "    DN_i = np.power((1-maf), (2*num_people))\n",
    "    DN_i_1 = np.power((1-maf), (2*num_people-2))\n",
    "    \n",
    "    log1 = np.log(DN_i/(error*DN_i_1))\n",
    "    log2 = np.log((error*DN_i_1 * (1-DN_i)) / (DN_i * (1-error*DN_i_1)))\n",
    "\n",
    "    return log1 + log2*response\n",
    "\n",
    "def optimal_lrt(victim, control_people, beacon, A, S, num_query):\n",
    "    control_size = control_people.shape[1]\n",
    "    beacon_size = beacon.shape[1]\n",
    "    \n",
    "    response = beacon[A].any(axis=1)*S    \n",
    "    maf_i = maf.iloc[A][\"maf\"].values + 1e-6\n",
    "    \n",
    "    # Delta\n",
    "    delta = calculate_optimal_delta(beacon_size, response, num_query, maf_i)\n",
    "\n",
    "    # Victim delta   \n",
    "    victim_delta = np.sum(np.dot(delta, victim[A]))\n",
    "    \n",
    "    # Control delta\n",
    "    control_delta = np.dot(delta, control_people[A])\n",
    "    \n",
    "    return victim_delta, control_delta"
   ]
  },
  {
   "cell_type": "markdown",
   "metadata": {},
   "source": [
    "###### p-value Function"
   ]
  },
  {
   "cell_type": "code",
   "execution_count": 143,
   "metadata": {},
   "outputs": [],
   "source": [
    "def p_value(victim_delta, control_delta):\n",
    "    return np.sum(control_delta <= victim_delta) / control_delta.shape[0]"
   ]
  },
  {
   "cell_type": "markdown",
   "metadata": {},
   "source": [
    "#### Attacker Utility"
   ]
  },
  {
   "cell_type": "code",
   "execution_count": 148,
   "metadata": {},
   "outputs": [],
   "source": [
    "def utility_sharer(ai, si, p_prevs, p_currents, hps):\n",
    "    # Gain-Loss=Utility\n",
    "    s_gain = hps[2]*(1-pe.value(si)) \n",
    "    s_loss = hps[0]*-np.log(maf.iloc[ai][\"maf\"]+1e-6)/abs(np.log(1e-6))\n",
    "    + hps[1]*np.sum(p_prevs - p_currents)/len(p_prevs)\n",
    "    + hps[3]*np.sum(p_currents <= 0.05)/len(p_currents)\n",
    "    return s_gain-s_loss"
   ]
  },
  {
   "cell_type": "code",
   "execution_count": 149,
   "metadata": {},
   "outputs": [],
   "source": [
    "def utility_attacker(ai, si, p_prev, p_current, num_query, hps):\n",
    "    # Gain-Loss=Utility\n",
    "    a_gain = hps[0]*-np.log(maf.iloc[ai][\"maf\"]+1e-6)/abs(np.log(1e-6)) + hps[1]*(p_prev - p_current)\n",
    "    a_loss = hps[2]*(1-pe.value(si)) + hps[3]*num_query/100\n",
    "    return a_gain-a_loss"
   ]
  },
  {
   "cell_type": "code",
   "execution_count": null,
   "metadata": {},
   "outputs": [],
   "source": []
  },
  {
   "cell_type": "markdown",
   "metadata": {},
   "source": [
    "# Single Query Game"
   ]
  },
  {
   "cell_type": "code",
   "execution_count": null,
   "metadata": {},
   "outputs": [],
   "source": [
    "# Attacker Utility\n",
    "attacker_utility = np.zeros(num_query)\n",
    "\n",
    "# Previous p-value\n",
    "p_victim_prev = 1\n",
    "\n",
    "for i in range(num_query):\n",
    "    print(\"QUERY \", i+1)\n",
    "    print(\"---------\")\n",
    "    # Current p-value\n",
    "    victim_delta, control_delta = optimal_lrt(victim, a_control, s_beacon, A[:i+1], S[:i+1], i+1)\n",
    "    print(\"Victim delta: \", victim_delta)\n",
    "    print(\"Control delta: \", control_delta)\n",
    "    p_victim_current = p_value(victim_delta, control_delta)\n",
    "    \n",
    "    # Gain-Loss=Utility\n",
    "    attacker_utility[i] = utility_attacker(A[i], S[i], p_victim_prev, p_victim_current, i+1, hps)\n",
    "\n",
    "    print(\"U_A(\",i+1,\"): \", round(attacker_utility[i], 3), \"\\tP-prev-P-cur: \",p_victim_prev,\"-\",p_victim_current, \"\\tMAF: \", maf.iloc[A[i]][\"maf\"])\n",
    "    print()\n",
    "\n",
    "    p_victim_prev = p_victim_current\n",
    "\n",
    "# Sharer Utility\n",
    "sharer_utility = np.zeros(num_query)\n",
    "\n",
    "# Previous p-value\n",
    "p_donors_prev = np.ones(s_beacon.shape[1])\n",
    "\n",
    "for i in range(num_query):\n",
    "    print(\"QUERY \", i+1)\n",
    "    print(\"---------\")\n",
    "    # Current p-value\n",
    "    p_donors_current = np.zeros(s_beacon.shape[1])\n",
    "\n",
    "    for j in range(s_beacon.shape[1]):\n",
    "        victim_delta, control_delta = optimal_lrt(s_beacon[:, j], s_control, s_beacon, A[:i+1], S[:i+1], i+1)\n",
    "        p_donors_current[j] = p_value(victim_delta, control_delta)\n",
    "    \n",
    "    sharer_utility[i] =  utility_sharer(A[i], S[i], p_donors_prev, p_donors_current, hps)\n",
    "    print(\"U_S(\",i+1,\"): \", round(sharer_utility[i], 3), \"\\tPrev-Cur: \",round(np.sum(p_donors_prev),2),\"-\",round(np.sum(p_donors_current),2), \"\\tMAF: \", maf.iloc[A[i]][\"maf\"])\n",
    "    print(p_donors_current)\n",
    "    p_donors_prev = p_donors_current"
   ]
  },
  {
   "cell_type": "code",
   "execution_count": null,
   "metadata": {},
   "outputs": [],
   "source": []
  },
  {
   "cell_type": "code",
   "execution_count": null,
   "metadata": {},
   "outputs": [],
   "source": []
  },
  {
   "cell_type": "code",
   "execution_count": null,
   "metadata": {},
   "outputs": [],
   "source": []
  },
  {
   "cell_type": "code",
   "execution_count": null,
   "metadata": {},
   "outputs": [],
   "source": []
  },
  {
   "cell_type": "code",
   "execution_count": null,
   "metadata": {},
   "outputs": [],
   "source": []
  },
  {
   "cell_type": "code",
   "execution_count": null,
   "metadata": {},
   "outputs": [],
   "source": []
  },
  {
   "cell_type": "code",
   "execution_count": null,
   "metadata": {},
   "outputs": [],
   "source": []
  },
  {
   "cell_type": "code",
   "execution_count": null,
   "metadata": {},
   "outputs": [],
   "source": []
  },
  {
   "cell_type": "code",
   "execution_count": null,
   "metadata": {},
   "outputs": [],
   "source": []
  },
  {
   "cell_type": "code",
   "execution_count": null,
   "metadata": {},
   "outputs": [],
   "source": []
  },
  {
   "cell_type": "code",
   "execution_count": null,
   "metadata": {},
   "outputs": [],
   "source": [
    "# Game scenario\n",
    "num_query = 100\n",
    "A = np.random.choice(beacon.shape[0], num_query)\n",
    "S = np.ones(num_query)\n",
    "hps = np.random.uniform(low=0.9, high=1, size=(6,))\n",
    "\n",
    "### Attacker\n",
    "\n",
    "victim_delta, control_delta = optimal_lrt(victim, a_control, s_beacon, A, S, num_query)\n",
    "p_victim = p_value(victim_delta, control_delta)\n",
    "print(\"Victim's p-value: \",p_victim)    \n",
    "print(\"Victim delta: \", victim_delta)\n",
    "print(\"Control delta: \", control_delta)\n",
    "\n",
    "### Sharer\n",
    "\n",
    "p_donors = np.zeros(s_beacon.shape[1])\n",
    "for i in range(s_beacon.shape[1]):\n",
    "    victim_delta, control_delta = optimal_lrt(s_beacon[:, i], s_control, s_beacon, A, S, num_query)\n",
    "    p_donors[i] = p_value(victim_delta, control_delta)\n",
    "print(\"Donors' p-values:\\n\",p_donors)"
   ]
  },
  {
   "cell_type": "markdown",
   "metadata": {},
   "source": [
    "###### Random Sequence"
   ]
  },
  {
   "cell_type": "code",
   "execution_count": null,
   "metadata": {},
   "outputs": [],
   "source": [
    "# Game scenario\n",
    "num_query = 20\n",
    "A = np.random.choice(beacon.shape[0], num_query)\n",
    "S = np.random.uniform(low=0.95, high=1, size=(num_query,))\n",
    "S = np.ones(num_query)\n",
    "hps = np.random.uniform(low=0.9, high=1, size=(6,))\n",
    "print(victim[A])\n",
    "print(a_control[A])"
   ]
  },
  {
   "cell_type": "markdown",
   "metadata": {},
   "source": [
    "##### Victim SNP instances"
   ]
  },
  {
   "cell_type": "code",
   "execution_count": null,
   "metadata": {},
   "outputs": [],
   "source": [
    "in_victim = maf.iloc[np.where(victim)].sort_values(\"maf\")\n",
    "out_victim = maf.iloc[np.where(1-victim)].sort_values(\"maf\")\n",
    "\n",
    "_rarest_yes = in_victim.iloc[0:100].index.values\n",
    "_rarest_no  = out_victim.iloc[0:100].index.values\n",
    "\n",
    "_common_yes = in_victim.iloc[-100:].index.values\n",
    "_common_no  = out_victim.iloc[-100:].index.values\n",
    "\n",
    "_mid_yes = in_victim.iloc[len(in_victim)//2:len(in_victim)//2+100].index.values\n",
    "_mid_no  = out_victim.iloc[len(out_victim)//2:len(out_victim)//2+100].index.values\n",
    "\n",
    "_common_control = np.where(np.logical_and(np.any(a_control == 1,axis=1), victim == 1))[0]"
   ]
  },
  {
   "cell_type": "markdown",
   "metadata": {},
   "source": [
    "###### Rare-Mid-Common"
   ]
  },
  {
   "cell_type": "code",
   "execution_count": null,
   "metadata": {},
   "outputs": [],
   "source": [
    "num_query = 23\n",
    "A = np.concatenate([_rarest_yes[:3], _mid_no[80:100]])\n",
    "S = np.random.uniform(low=0.95, high=1, size=(num_query,))\n",
    "hps = 100*np.random.uniform(low=0.9, high=1, size=(6,))\n",
    "print(victim[A[6]])\n",
    "print(a_control[A[6]])"
   ]
  },
  {
   "cell_type": "markdown",
   "metadata": {},
   "source": [
    "###### Common"
   ]
  },
  {
   "cell_type": "code",
   "execution_count": null,
   "metadata": {},
   "outputs": [],
   "source": [
    "num_query = 15\n",
    "A = np.concatenate([_common_control[:5], _common_no[:10]])\n",
    "S = np.ones(num_query)\n",
    "#S = np.random.uniform(low=0.95, high=1, size=(num_query,))\n",
    "hps = 100*np.random.uniform(low=0.9, high=1, size=(6,))\n",
    "print(victim[A])\n",
    "print(a_control[A])"
   ]
  },
  {
   "cell_type": "markdown",
   "metadata": {},
   "source": [
    "#### Example"
   ]
  },
  {
   "cell_type": "code",
   "execution_count": null,
   "metadata": {
    "scrolled": true
   },
   "outputs": [],
   "source": [
    "# Attacker Utility\n",
    "attacker_utility = np.zeros(num_query)\n",
    "\n",
    "# Previous p-value\n",
    "p_victim_prev = 1\n",
    "\n",
    "for i in range(num_query):\n",
    "    print(\"QUERY \", i+1)\n",
    "    print(\"---------\")\n",
    "    # Current p-value\n",
    "    victim_delta, control_delta = optimal_lrt(victim, a_control, s_beacon, A[:i+1], S[:i+1], i+1)\n",
    "    print(\"Victim delta: \", victim_delta)\n",
    "    print(\"Control delta: \", control_delta)\n",
    "    p_victim_current = p_value(victim_delta, control_delta)\n",
    "    \n",
    "    # Gain-Loss=Utility\n",
    "    attacker_utility[i] = utility_attacker(A[i], S[i], p_victim_prev, p_victim_current, i+1, hps)\n",
    "\n",
    "    print(\"U_A(\",i+1,\"): \", round(attacker_utility[i], 3), \"\\tP-prev-P-cur: \",p_victim_prev,\"-\",p_victim_current, \"\\tMAF: \", maf.iloc[A[i]][\"maf\"])\n",
    "    print()\n",
    "\n",
    "    p_victim_prev = p_victim_current\n",
    "\n",
    "# Sharer Utility\n",
    "sharer_utility = np.zeros(num_query)\n",
    "\n",
    "# Previous p-value\n",
    "p_donors_prev = np.ones(s_beacon.shape[1])\n",
    "\n",
    "for i in range(num_query):\n",
    "    print(\"QUERY \", i+1)\n",
    "    print(\"---------\")\n",
    "    # Current p-value\n",
    "    p_donors_current = np.zeros(s_beacon.shape[1])\n",
    "\n",
    "    for j in range(s_beacon.shape[1]):\n",
    "        victim_delta, control_delta = optimal_lrt(s_beacon[:, j], s_control, s_beacon, A[:i+1], S[:i+1], i+1)\n",
    "        p_donors_current[j] = p_value(victim_delta, control_delta)\n",
    "    \n",
    "    sharer_utility[i] =  utility_sharer(A[i], S[i], p_donors_prev, p_donors_current, hps)\n",
    "    print(\"U_S(\",i+1,\"): \", round(sharer_utility[i], 3), \"\\tPrev-Cur: \",round(np.sum(p_donors_prev),2),\"-\",round(np.sum(p_donors_current),2), \"\\tMAF: \", maf.iloc[A[i]][\"maf\"])\n",
    "    print(p_donors_current)\n",
    "    p_donors_prev = p_donors_current"
   ]
  },
  {
   "cell_type": "code",
   "execution_count": null,
   "metadata": {},
   "outputs": [],
   "source": [
    "plt.plot(attacker_utility, label=\"Attacker\")\n",
    "plt.plot(sharer_utility, label=\"Sharer\")\n",
    "plt.xlabel(\"Query\")\n",
    "plt.ylabel(\"Utility\")\n",
    "plt.legend()"
   ]
  },
  {
   "cell_type": "code",
   "execution_count": null,
   "metadata": {},
   "outputs": [],
   "source": [
    "plt.plot(np.cumsum(attacker_utility), label=\"Attacker\")\n",
    "plt.plot(np.cumsum(sharer_utility), label=\"Sharer\")\n",
    "plt.xlabel(\"Query\")\n",
    "plt.ylabel(\"Utility\")\n",
    "plt.legend()"
   ]
  },
  {
   "cell_type": "code",
   "execution_count": null,
   "metadata": {},
   "outputs": [],
   "source": []
  },
  {
   "cell_type": "code",
   "execution_count": null,
   "metadata": {},
   "outputs": [],
   "source": []
  },
  {
   "cell_type": "code",
   "execution_count": null,
   "metadata": {},
   "outputs": [],
   "source": [
    "class MyProblem(Problem):\n",
    "\n",
    "    def __init__(self):\n",
    "        super().__init__(n_var=2,\n",
    "                         n_obj=2,\n",
    "                         n_constr=2,\n",
    "                         xl=np.array([-2,-2]),\n",
    "                         xu=np.array([2,2]))\n",
    "\n",
    "    def _evaluate(self, X, out, *args, **kwargs):\n",
    "        f1 = X[:,0]**2 + X[:,1]**2\n",
    "        f2 = (X[:,0]-1)**2 + X[:,1]**2\n",
    "\n",
    "        g1 = 2*(X[:, 0]-0.1) * (X[:, 0]-0.9) / 0.18\n",
    "        g2 = - 20*(X[:, 0]-0.4) * (X[:, 0]-0.6) / 4.8\n",
    "\n",
    "        out[\"F\"] = np.column_stack([f1, f2])\n",
    "        out[\"G\"] = np.column_stack([g1, g2])\n",
    "\n",
    "problem = MyProblem()\n",
    "\n",
    "algorithm = NSGA2(pop_size=100)\n",
    "\n",
    "res = minimize(problem,\n",
    "               algorithm,\n",
    "               (\"n_gen\", 100),\n",
    "               verbose=True,\n",
    "               seed=1)\n",
    "\n",
    "plot = Scatter()\n",
    "plot.add(res.F, color=\"red\")\n",
    "plot.show()"
   ]
  },
  {
   "cell_type": "code",
   "execution_count": null,
   "metadata": {},
   "outputs": [],
   "source": []
  },
  {
   "cell_type": "code",
   "execution_count": null,
   "metadata": {},
   "outputs": [],
   "source": []
  },
  {
   "cell_type": "code",
   "execution_count": null,
   "metadata": {},
   "outputs": [],
   "source": []
  },
  {
   "cell_type": "code",
   "execution_count": null,
   "metadata": {},
   "outputs": [],
   "source": []
  },
  {
   "cell_type": "code",
   "execution_count": null,
   "metadata": {},
   "outputs": [],
   "source": []
  },
  {
   "cell_type": "code",
   "execution_count": null,
   "metadata": {},
   "outputs": [],
   "source": []
  },
  {
   "cell_type": "code",
   "execution_count": null,
   "metadata": {},
   "outputs": [],
   "source": []
  },
  {
   "cell_type": "code",
   "execution_count": null,
   "metadata": {},
   "outputs": [],
   "source": []
  },
  {
   "cell_type": "code",
   "execution_count": null,
   "metadata": {},
   "outputs": [],
   "source": []
  },
  {
   "cell_type": "markdown",
   "metadata": {},
   "source": [
    "###### Optimization Trials"
   ]
  },
  {
   "cell_type": "code",
   "execution_count": null,
   "metadata": {},
   "outputs": [],
   "source": [
    "for i in range(num_query):\n",
    "    print(\"QUERY \", i+1)\n",
    "    print(\"---------\")\n",
    "    # Current p-value\n",
    "    victim_delta, control_delta = optimal_lrt(victim, a_control, s_beacon, A[:i+1], S[:i+1], i+1)\n",
    "    print(\"Victim delta: \", victim_delta)\n",
    "    print(\"Control delta: \", control_delta)\n",
    "    p_victim_current = p_value(victim_delta, control_delta)\n",
    "    \n",
    "    # Gain-Loss=Utility\n",
    "    attacker_utility[i] = utility_attacker(A[i], S[i], p_victim_prev, p_victim_current, hps)\n",
    "\n",
    "    print(\"U_A(\",i+1,\"): \", round(attacker_utility[i], 3), \"\\tP-prev-P-cur: \",p_victim_prev,\"-\",p_victim_current, \"\\tMAF: \", maf.iloc[A[i]][\"maf\"])\n",
    "    print()\n",
    "\n",
    "    p_victim_prev = p_victim_current\n",
    "\n",
    "# Sharer Utility\n",
    "sharer_utility = np.zeros(num_query)\n",
    "\n",
    "# Previous p-value\n",
    "p_donors_prev = np.ones(s_beacon.shape[1])\n",
    "\n",
    "for i in range(num_query):\n",
    "    print(\"QUERY \", i+1)\n",
    "    print(\"---------\")\n",
    "    # Current p-value\n",
    "    p_donors_current = np.zeros(s_beacon.shape[1])\n",
    "\n",
    "    for j in range(s_beacon.shape[1]):\n",
    "        victim_delta, control_delta = optimal_lrt(s_beacon[:, j], s_control, s_beacon, A[:i+1], S[:i+1], i+1)\n",
    "        p_donors_current[j] = p_value(victim_delta, control_delta)\n",
    "    \n",
    "    sharer_utility[i] =  utility_sharer(A[i], S[i], p_donors_prev, p_donors_current, hps)\n",
    "    print(\"U_S(\",i+1,\"): \", round(sharer_utility[i], 3), \"\\tPrev-Cur: \",round(np.sum(p_donors_prev),2),\"-\",round(np.sum(p_donors_current),2), \"\\tMAF: \", maf.iloc[A[i]][\"maf\"])\n",
    "    print()\n",
    "    p_donors_prev = p_donors_current"
   ]
  },
  {
   "cell_type": "code",
   "execution_count": null,
   "metadata": {},
   "outputs": [],
   "source": []
  },
  {
   "cell_type": "code",
   "execution_count": null,
   "metadata": {},
   "outputs": [],
   "source": []
  },
  {
   "cell_type": "code",
   "execution_count": null,
   "metadata": {},
   "outputs": [],
   "source": [
    "# Game scenario\n",
    "num_query = 40\n",
    "rares = maf.iloc[np.where(victim)].sort_values(\"maf\").iloc[0:1].index.values\n",
    "A = np.random.choice(beacon.shape[0], num_query)\n",
    "A[:len(rares)] = rares\n",
    "S = np.random.uniform(low=0.95, high=1, size=(num_query,))\n",
    "S = np.ones(num_query)\n",
    "hps = np.random.uniform(low=0.9, high=1, size=(6,))\n",
    "print(victim[A])\n",
    "print(a_control[A])"
   ]
  },
  {
   "cell_type": "code",
   "execution_count": null,
   "metadata": {},
   "outputs": [],
   "source": []
  },
  {
   "cell_type": "code",
   "execution_count": null,
   "metadata": {},
   "outputs": [],
   "source": [
    "rares = maf.iloc[np.where(victim)].sort_values(\"maf\").iloc[0:1].index.values\n",
    "rares"
   ]
  },
  {
   "cell_type": "code",
   "execution_count": null,
   "metadata": {},
   "outputs": [],
   "source": []
  },
  {
   "cell_type": "code",
   "execution_count": null,
   "metadata": {},
   "outputs": [],
   "source": []
  },
  {
   "cell_type": "code",
   "execution_count": null,
   "metadata": {},
   "outputs": [],
   "source": []
  },
  {
   "cell_type": "code",
   "execution_count": null,
   "metadata": {},
   "outputs": [],
   "source": []
  },
  {
   "cell_type": "code",
   "execution_count": null,
   "metadata": {},
   "outputs": [],
   "source": []
  },
  {
   "cell_type": "code",
   "execution_count": null,
   "metadata": {},
   "outputs": [],
   "source": []
  },
  {
   "cell_type": "code",
   "execution_count": null,
   "metadata": {},
   "outputs": [],
   "source": []
  },
  {
   "cell_type": "code",
   "execution_count": null,
   "metadata": {},
   "outputs": [],
   "source": []
  },
  {
   "cell_type": "code",
   "execution_count": null,
   "metadata": {},
   "outputs": [],
   "source": []
  },
  {
   "cell_type": "markdown",
   "metadata": {},
   "source": [
    "# STASH"
   ]
  },
  {
   "cell_type": "code",
   "execution_count": null,
   "metadata": {},
   "outputs": [],
   "source": [
    "'''\n",
    "#ternary = binary.copy()\n",
    "#ternary[beacon.values==\"NN\"] = -1\n",
    "\n",
    "def lrt_calculate(victim, control_people, beacon, ai, si, num_query):\n",
    "    victim_delta = 0\n",
    "    control_size = control_people.shape[1]\n",
    "    beacon_size = beacon.shape[1]\n",
    "    control_delta = np.zeros(control_size)\n",
    "\n",
    "    for i in range(num_query):\n",
    "        # Query the beacon\n",
    "        response = beacon[ai[i]].any(axis=0)*si[i]\n",
    "\n",
    "        # Victim delta\n",
    "        victim_delta += calculate_sb_delta(beacon_size, response, 1) * victim[ai[i]]\n",
    "\n",
    "        # Control delta\n",
    "        control_delta += calculate_sb_delta(beacon_size, response, 1) * control_people[ai[i]]\n",
    "\n",
    "    return victim_delta, control_delta\n",
    "    \n",
    "    \n",
    "victim_delta = 0\n",
    "a_control_delta = np.zeros(60)\n",
    "\n",
    "for i in range(num_query):\n",
    "    # Query the beacon\n",
    "    response = s_beacon[ai[i]].any(axis=0)#*si[i]\n",
    "    \n",
    "    # Victim delta\n",
    "    victim_delta += calculate_sb_delta(60, response, 1) * victim[ai[i]]\n",
    "    \n",
    "    # Control delta\n",
    "    a_control_delta += calculate_sb_delta(60, response, 1) * a_control[ai[i]]\n",
    "    #print(victim_delta, \"-->\", a_control_delta)\n",
    "    \n",
    "    # p-value of the victim\n",
    "    p_victim = np.sum(a_control_delta <= victim_delta) / 60\n",
    "    print(p_victim) \n",
    "'''"
   ]
  }
 ],
 "metadata": {
  "kernelspec": {
   "display_name": "Python 3",
   "language": "python",
   "name": "python3"
  },
  "language_info": {
   "codemirror_mode": {
    "name": "ipython",
    "version": 3
   },
   "file_extension": ".py",
   "mimetype": "text/x-python",
   "name": "python",
   "nbconvert_exporter": "python",
   "pygments_lexer": "ipython3",
   "version": "3.7.6"
  }
 },
 "nbformat": 4,
 "nbformat_minor": 4
}
