{
 "cells": [
  {
   "cell_type": "code",
   "execution_count": 118,
   "metadata": {},
   "outputs": [
    {
     "data": {
      "text/html": [
       "<style>.container { width:75% !important; }</style>"
      ],
      "text/plain": [
       "<IPython.core.display.HTML object>"
      ]
     },
     "metadata": {},
     "output_type": "display_data"
    }
   ],
   "source": [
    "import pandas as pd\n",
    "import numpy as np\n",
    "import random\n",
    "import math\n",
    "import itertools\n",
    "import warnings\n",
    "import pickle\n",
    "import gc\n",
    "import sys\n",
    "import matplotlib.pyplot as plt\n",
    "from os.path import join, isfile\n",
    "from collections import Counter\n",
    "from scipy.special import gamma\n",
    "\n",
    "warnings.filterwarnings('ignore')\n",
    "np.set_printoptions(suppress=True, formatter={'float': lambda x: \"{0:0.2f}\".format(x)})\n",
    "from IPython.core.display import display, HTML\n",
    "display(HTML(\"<style>.container { width:75% !important; }</style>\"))"
   ]
  },
  {
   "cell_type": "code",
   "execution_count": 2,
   "metadata": {},
   "outputs": [],
   "source": [
    "mainPath = \"../../data\"\n",
    "beacons = join(mainPath, \"beacon\")\n",
    "ceuPath = join(beacons, \"CEU\")"
   ]
  },
  {
   "cell_type": "markdown",
   "metadata": {},
   "source": [
    "### Step 1: Load Beacon, MAF, Reference and other cached variables"
   ]
  },
  {
   "cell_type": "code",
   "execution_count": 3,
   "metadata": {},
   "outputs": [],
   "source": [
    "# CEU\n",
    "beacon = pd.read_csv(join(ceuPath, \"Beacon_164.txt\"), index_col=0, delim_whitespace=True)\n",
    "maf = pd.read_csv(join(ceuPath, \"MAF.txt\"), index_col=0, delim_whitespace=True)\n",
    "reference = pickle.load(open(join(ceuPath, \"reference.pickle\"),\"rb\"))"
   ]
  },
  {
   "cell_type": "code",
   "execution_count": 4,
   "metadata": {},
   "outputs": [],
   "source": [
    "binary = np.logical_and(beacon.values != reference, beacon.values != \"NN\").astype(int)\n",
    "\n",
    "maf.rename(columns = {'referenceAllele':'major', 'referenceAlleleFrequency':'major_freq', \n",
    "                      'otherAllele':'minor', 'otherAlleleFrequency':'minor_freq'}, inplace = True)\n",
    "\n",
    "beacon_people = np.arange(65)\n",
    "other_people = np.arange(99)+65\n",
    "all_people = np.arange(164)"
   ]
  },
  {
   "cell_type": "code",
   "execution_count": 5,
   "metadata": {},
   "outputs": [],
   "source": [
    "# Construct beacons and the victim\n",
    "shuffled = np.random.permutation(all_people)\n",
    "\n",
    "victim_ind = shuffled[0]\n",
    "a_cind = shuffled[1:21]\n",
    "s_cind = shuffled[21:41]\n",
    "\n",
    "s_ind = shuffled[41:101]\n",
    "\n",
    "s_beacon = binary[:, np.concatenate([s_ind,np.array([victim_ind])])]\n",
    "#s_beacon = binary[:, s_ind]\n",
    "\n",
    "a_control = binary[:, a_cind]\n",
    "s_control = binary[:, s_cind]\n",
    "\n",
    "victim = binary[:, victim_ind]"
   ]
  },
  {
   "cell_type": "markdown",
   "metadata": {},
   "source": [
    "### Step 2: Function definitions"
   ]
  },
  {
   "cell_type": "markdown",
   "metadata": {},
   "source": [
    "###### SB LRT"
   ]
  },
  {
   "cell_type": "code",
   "execution_count": 6,
   "metadata": {},
   "outputs": [],
   "source": [
    "# n: Num query\n",
    "a=1.6483\n",
    "b=2.2876\n",
    "error=0.001\n",
    "\n",
    "def calculate_sb_delta(num_people, response, n):\n",
    "    DN = gamma(a + b) / (gamma(b) * (2*num_people + a + b)**a)\n",
    "    DN_1 = gamma(a + b) / (gamma(b) * (2*(num_people-1) + a + b)**a)\n",
    "    \n",
    "    B = np.log(DN / (DN_1 * error)) \n",
    "    C = np.log((error * DN_1 * (1 - DN)) / (DN*(1-error*DN_1)))\n",
    "    return n*B + C*response\n",
    "\n",
    "def sb_lrt(victim, control_people, beacon, A, S, num_query):\n",
    "    control_size = control_people.shape[1]\n",
    "    beacon_size = beacon.shape[1]\n",
    "    \n",
    "    response = beacon[A].any(axis=1)*S    \n",
    "    \n",
    "    # Delta\n",
    "    delta = calculate_sb_delta(beacon_size, response, num_query)\n",
    "    \n",
    "    # Victim delta\n",
    "    victim_delta = np.sum(np.dot(delta, victim[A]))\n",
    "    \n",
    "    # Control delta\n",
    "    control_delta = np.dot(delta, control_people[A])\n",
    "\n",
    "    return victim_delta, control_delta"
   ]
  },
  {
   "cell_type": "markdown",
   "metadata": {},
   "source": [
    "###### Optimal LRT"
   ]
  },
  {
   "cell_type": "code",
   "execution_count": 7,
   "metadata": {},
   "outputs": [],
   "source": [
    "# n: Num query\n",
    "\n",
    "def calculate_optimal_delta(num_people, response, n, maf):\n",
    "    DN_i = np.power((1-maf), (2*num_people))\n",
    "    DN_i_1 = np.power((1-maf), (2*num_people-2))\n",
    "    \n",
    "    log1 = np.log(DN_i/(error*DN_i_1))\n",
    "    log2 = np.log((error*DN_i_1 * (1-DN_i)) / (DN_i * (1-error*DN_i_1)))\n",
    "\n",
    "    return log1 + log2*response\n",
    "\n",
    "def optimal_lrt(victim, control_people, beacon, A, S, num_query):\n",
    "    control_size = control_people.shape[1]\n",
    "    beacon_size = beacon.shape[1]\n",
    "    \n",
    "    response = beacon[A].any(axis=1)*S    \n",
    "    maf_i = maf.iloc[A][\"maf\"].values + 1e-6\n",
    "    \n",
    "    # Delta\n",
    "    delta = calculate_optimal_delta(beacon_size, response, num_query, maf_i)\n",
    "\n",
    "    # Victim delta   \n",
    "    victim_delta = np.sum(np.dot(delta, victim[A]))\n",
    "    \n",
    "    # Control delta\n",
    "    control_delta = np.dot(delta, control_people[A])\n",
    "    \n",
    "    return victim_delta, control_delta"
   ]
  },
  {
   "cell_type": "markdown",
   "metadata": {},
   "source": [
    "###### p-value Function"
   ]
  },
  {
   "cell_type": "code",
   "execution_count": 8,
   "metadata": {},
   "outputs": [],
   "source": [
    "def p_value(victim_delta, control_delta):\n",
    "    return np.sum(control_delta <= victim_delta) / control_delta.shape[0]"
   ]
  },
  {
   "cell_type": "markdown",
   "metadata": {},
   "source": [
    "#### Attacker Utility"
   ]
  },
  {
   "cell_type": "code",
   "execution_count": 119,
   "metadata": {},
   "outputs": [],
   "source": [
    "def utility_attacker(ai, si, p_prev, p_current, num_query, hps):\n",
    "    # Gain-Loss=Utility\n",
    "    a_gain = hps[0]*-np.log(maf.iloc[ai][\"maf\"]+1e-6)/abs(np.log(1e-6)) + hps[1]*(p_prev - p_current)\n",
    "    a_loss = hps[2]*(1-si) + hps[3]*num_query/100\n",
    "    return a_gain-a_loss"
   ]
  },
  {
   "cell_type": "code",
   "execution_count": 120,
   "metadata": {},
   "outputs": [],
   "source": [
    "def utility_sharer(ai, si, p_prevs, p_currents, hps):\n",
    "    # Gain-Loss=Utility\n",
    "    s_gain = hps[2]*(1-si) \n",
    "    s_loss = hps[0]*-np.log(maf.iloc[ai][\"maf\"]+1e-6)/abs(np.log(1e-6))\n",
    "    + hps[1]*np.sum(p_prevs - p_currents)/len(p_prevs)\n",
    "    + hps[3]*np.sum(p_currents <= 0.05)/len(p_currents)\n",
    "    return s_gain-s_loss"
   ]
  },
  {
   "cell_type": "code",
   "execution_count": 121,
   "metadata": {},
   "outputs": [
    {
     "name": "stdout",
     "output_type": "stream",
     "text": [
      "Victim's p-value:  0.8\n",
      "Victim delta:  -4.0942186831927074e-06\n",
      "Control delta:  [-0.00 -0.18 -0.01 -0.00 -0.00 -0.00 -0.00 -0.00 -0.00 -0.00 -0.00 -0.00\n",
      " -0.00 -0.00 -0.00 -0.00 -0.00 -0.00 -0.00 -0.05]\n",
      "Donors' p-values:\n",
      " [0.65 0.10 0.45 0.10 0.30 0.55 0.30 0.40 0.30 0.00 0.65 0.65 0.30 0.10\n",
      " 0.10 0.65 0.30 0.65 0.60 0.60 0.65 0.30 0.30 0.95 0.95 1.00 0.30 0.65\n",
      " 0.65 0.30 0.30 0.30 0.45 0.00 0.45 0.30 0.30 0.45 0.30 0.95 0.75 0.30\n",
      " 0.45 0.75 0.10 0.30 0.60 0.65 0.00 0.30 0.65 0.30 0.95 0.75 0.95 0.65\n",
      " 0.45 0.65 0.85 0.30 0.45]\n"
     ]
    }
   ],
   "source": [
    "# Game scenario\n",
    "num_query = 100\n",
    "A = np.random.choice(beacon.shape[0], num_query)\n",
    "S = np.ones(num_query)\n",
    "hps = np.random.uniform(low=0.9, high=1, size=(6,))\n",
    "\n",
    "### Attacker\n",
    "\n",
    "victim_delta, control_delta = optimal_lrt(victim, a_control, s_beacon, A, S, num_query)\n",
    "p_victim = p_value(victim_delta, control_delta)\n",
    "print(\"Victim's p-value: \",p_victim)    \n",
    "print(\"Victim delta: \", victim_delta)\n",
    "print(\"Control delta: \", control_delta)\n",
    "\n",
    "### Sharer\n",
    "\n",
    "p_donors = np.zeros(s_beacon.shape[1])\n",
    "for i in range(s_beacon.shape[1]):\n",
    "    victim_delta, control_delta = optimal_lrt(s_beacon[:, i], s_control, s_beacon, A, S, num_query)\n",
    "    p_donors[i] = p_value(victim_delta, control_delta)\n",
    "print(\"Donors' p-values:\\n\",p_donors)"
   ]
  },
  {
   "cell_type": "markdown",
   "metadata": {},
   "source": [
    "###### Random Sequence"
   ]
  },
  {
   "cell_type": "code",
   "execution_count": 34,
   "metadata": {},
   "outputs": [
    {
     "name": "stdout",
     "output_type": "stream",
     "text": [
      "[0 0 0 0 0 0 0 0 0 0 0 1 1 0 1 0 0 0 0 0]\n",
      "[[0 0 0 0 0 0 0 0 0 0 0 0 0 0 0 0 0 0 0 0]\n",
      " [0 0 0 0 0 0 0 0 0 0 0 0 0 0 0 0 0 0 0 0]\n",
      " [0 0 0 0 0 0 0 0 0 0 0 0 0 0 0 0 0 0 0 0]\n",
      " [0 0 0 0 0 0 0 0 0 0 0 0 0 0 0 0 0 0 0 0]\n",
      " [0 0 0 0 0 0 0 0 0 0 0 0 0 0 0 0 0 0 0 0]\n",
      " [0 0 0 0 0 0 1 0 0 0 0 1 0 1 0 0 1 0 1 0]\n",
      " [0 0 0 0 0 0 0 0 0 0 0 0 0 0 0 0 0 0 0 0]\n",
      " [0 0 0 0 0 0 0 0 0 0 0 0 0 0 0 0 0 0 0 0]\n",
      " [0 0 0 0 1 0 1 0 0 0 0 0 0 1 1 0 0 0 0 0]\n",
      " [0 0 0 0 0 0 1 0 0 0 0 0 1 0 0 0 1 0 0 0]\n",
      " [0 0 0 0 0 0 0 0 0 0 0 0 0 0 0 0 0 0 0 0]\n",
      " [1 1 1 0 0 1 1 1 1 1 0 0 1 0 0 1 1 1 0 0]\n",
      " [1 1 1 1 1 0 1 1 1 1 1 1 0 1 0 1 1 0 0 1]\n",
      " [1 0 1 0 0 0 0 1 1 0 0 1 1 0 0 1 1 0 0 0]\n",
      " [1 0 0 1 0 0 1 0 0 1 0 0 0 1 0 0 0 1 0 0]\n",
      " [0 0 0 0 0 0 0 0 0 0 0 0 0 0 0 0 0 0 0 0]\n",
      " [0 0 0 0 0 0 0 0 0 0 0 0 0 0 0 0 0 0 0 0]\n",
      " [0 0 1 0 0 0 0 0 0 1 0 0 0 0 0 0 0 1 0 0]\n",
      " [0 0 0 0 0 0 0 0 0 0 0 0 0 0 0 0 0 0 0 0]\n",
      " [1 0 1 1 1 1 1 1 1 1 1 0 0 1 0 1 0 1 0 1]]\n"
     ]
    }
   ],
   "source": [
    "# Game scenario\n",
    "num_query = 20\n",
    "A = np.random.choice(beacon.shape[0], num_query)\n",
    "S = np.random.uniform(low=0.95, high=1, size=(num_query,))\n",
    "S = np.ones(num_query)\n",
    "hps = np.random.uniform(low=0.9, high=1, size=(6,))\n",
    "print(victim[A])\n",
    "print(a_control[A])"
   ]
  },
  {
   "cell_type": "markdown",
   "metadata": {},
   "source": [
    "##### Victim SNP instances"
   ]
  },
  {
   "cell_type": "code",
   "execution_count": 12,
   "metadata": {},
   "outputs": [],
   "source": [
    "in_victim = maf.iloc[np.where(victim)].sort_values(\"maf\")\n",
    "out_victim = maf.iloc[np.where(1-victim)].sort_values(\"maf\")\n",
    "\n",
    "_rarest_yes = in_victim.iloc[0:100].index.values\n",
    "_rarest_no  = out_victim.iloc[0:100].index.values\n",
    "\n",
    "_common_yes = in_victim.iloc[-100:].index.values\n",
    "_common_no  = out_victim.iloc[-100:].index.values\n",
    "\n",
    "_mid_yes = in_victim.iloc[len(in_victim)//2:len(in_victim)//2+100].index.values\n",
    "_mid_no  = out_victim.iloc[len(out_victim)//2:len(out_victim)//2+100].index.values\n",
    "\n",
    "_common_control = np.where(np.logical_and(np.any(a_control == 1,axis=1), victim == 1))[0]"
   ]
  },
  {
   "cell_type": "markdown",
   "metadata": {},
   "source": [
    "###### Rare-Mid-Common"
   ]
  },
  {
   "cell_type": "code",
   "execution_count": 66,
   "metadata": {},
   "outputs": [
    {
     "name": "stdout",
     "output_type": "stream",
     "text": [
      "0\n",
      "[0 1 0 0 0 1 0 0 0 0 0 0 0 0 0 0 0 0 0 0]\n"
     ]
    }
   ],
   "source": [
    "num_query = 23\n",
    "A = np.concatenate([_rarest_yes[:3], _mid_no[80:100]])\n",
    "S = np.random.uniform(low=0.95, high=1, size=(num_query,))\n",
    "hps = 100*np.random.uniform(low=0.9, high=1, size=(6,))\n",
    "print(victim[A[6]])\n",
    "print(a_control[A[6]])"
   ]
  },
  {
   "cell_type": "markdown",
   "metadata": {},
   "source": [
    "###### Common"
   ]
  },
  {
   "cell_type": "code",
   "execution_count": 126,
   "metadata": {},
   "outputs": [
    {
     "name": "stdout",
     "output_type": "stream",
     "text": [
      "[1 1 1 1 1 0 0 0 0 0 0 0 0 0 0]\n",
      "[[1 0 1 0 0 1 1 0 0 0 0 1 1 1 1 1 1 1 0 0]\n",
      " [1 1 0 1 0 1 0 1 1 0 1 0 0 0 1 1 1 1 0 0]\n",
      " [0 0 0 0 0 1 1 1 0 1 1 1 0 0 0 1 0 0 0 0]\n",
      " [1 1 0 0 1 1 0 0 1 1 1 1 1 0 0 0 1 1 0 1]\n",
      " [0 1 1 1 1 1 1 0 1 1 1 1 0 0 1 1 1 1 0 0]\n",
      " [1 1 1 0 0 0 1 0 0 0 0 1 1 1 1 0 0 0 0 1]\n",
      " [1 0 1 0 0 0 1 0 0 0 0 1 1 1 1 0 0 0 1 1]\n",
      " [1 1 1 0 1 1 1 0 0 0 0 0 0 1 0 0 0 0 0 1]\n",
      " [0 1 1 0 1 0 1 0 0 0 0 1 1 1 1 0 1 0 1 1]\n",
      " [1 1 1 0 1 1 1 0 0 0 0 1 0 1 1 0 1 0 1 1]\n",
      " [1 1 1 0 1 0 1 0 0 0 0 1 0 1 1 0 1 0 1 1]\n",
      " [0 1 0 0 0 1 1 0 0 0 0 0 1 1 1 0 0 0 1 1]\n",
      " [0 0 0 0 1 1 1 0 0 0 0 1 1 1 1 0 1 0 1 0]\n",
      " [0 0 0 0 1 1 1 0 0 0 0 1 1 1 1 0 1 0 1 0]\n",
      " [0 0 0 0 1 1 1 0 0 0 0 1 1 0 1 0 1 0 1 0]]\n"
     ]
    }
   ],
   "source": [
    "num_query = 15\n",
    "A = np.concatenate([_common_control[:5], _common_no[:10]])\n",
    "S = np.ones(num_query)\n",
    "#S = np.random.uniform(low=0.95, high=1, size=(num_query,))\n",
    "hps = 100*np.random.uniform(low=0.9, high=1, size=(6,))\n",
    "print(victim[A])\n",
    "print(a_control[A])"
   ]
  },
  {
   "cell_type": "markdown",
   "metadata": {},
   "source": [
    "#### Example"
   ]
  },
  {
   "cell_type": "code",
   "execution_count": 127,
   "metadata": {
    "scrolled": true
   },
   "outputs": [
    {
     "name": "stdout",
     "output_type": "stream",
     "text": [
      "QUERY  1\n",
      "---------\n",
      "Victim delta:  0.0\n",
      "Control delta:  [0.00 0.00 0.00 0.00 0.00 0.00 0.00 0.00 0.00 0.00 0.00 0.00 0.00 0.00\n",
      " 0.00 0.00 0.00 0.00 0.00 0.00]\n",
      "U_A( 1 ):  3.981 \tP-prev-P-cur:  1 - 1.0 \tMAF:  0.482\n",
      "\n",
      "QUERY  2\n",
      "---------\n",
      "Victim delta:  0.0\n",
      "Control delta:  [0.00 0.00 0.00 0.00 0.00 0.00 0.00 0.00 0.00 0.00 0.00 0.00 0.00 0.00\n",
      " 0.00 0.00 0.00 0.00 0.00 0.00]\n",
      "U_A( 2 ):  3.499 \tP-prev-P-cur:  1.0 - 1.0 \tMAF:  0.447\n",
      "\n",
      "QUERY  3\n",
      "---------\n",
      "Victim delta:  -5.52559287214649e-08\n",
      "Control delta:  [0.00 0.00 0.00 0.00 0.00 -0.00 -0.00 -0.00 0.00 -0.00 -0.00 -0.00 0.00\n",
      " 0.00 0.00 -0.00 0.00 0.00 0.00 0.00]\n",
      "U_A( 3 ):  73.431 \tP-prev-P-cur:  1.0 - 0.35 \tMAF:  0.128\n",
      "\n",
      "QUERY  4\n",
      "---------\n",
      "Victim delta:  -5.52559287214649e-08\n",
      "Control delta:  [0.00 0.00 0.00 0.00 0.00 -0.00 -0.00 -0.00 0.00 -0.00 -0.00 -0.00 0.00\n",
      " 0.00 0.00 -0.00 0.00 0.00 0.00 0.00]\n",
      "U_A( 4 ):  1.311 \tP-prev-P-cur:  0.35 - 0.35 \tMAF:  0.46\n",
      "\n",
      "QUERY  5\n",
      "---------\n",
      "Victim delta:  -5.52559287214649e-08\n",
      "Control delta:  [0.00 0.00 0.00 0.00 0.00 -0.00 -0.00 -0.00 0.00 -0.00 -0.00 -0.00 0.00\n",
      " 0.00 0.00 -0.00 0.00 0.00 0.00 0.00]\n",
      "U_A( 5 ):  -0.186 \tP-prev-P-cur:  0.35 - 0.35 \tMAF:  0.495\n",
      "\n",
      "QUERY  6\n",
      "---------\n",
      "Victim delta:  -5.52559287214649e-08\n",
      "Control delta:  [0.00 0.00 0.00 0.00 0.00 -0.00 -0.00 -0.00 0.00 -0.00 -0.00 -0.00 0.00\n",
      " 0.00 0.00 -0.00 0.00 0.00 0.00 0.00]\n",
      "U_A( 6 ):  -1.251 \tP-prev-P-cur:  0.35 - 0.35 \tMAF:  0.5\n",
      "\n",
      "QUERY  7\n",
      "---------\n",
      "Victim delta:  -5.52559287214649e-08\n",
      "Control delta:  [0.00 0.00 0.00 0.00 0.00 -0.00 -0.00 -0.00 0.00 -0.00 -0.00 -0.00 0.00\n",
      " 0.00 0.00 -0.00 0.00 0.00 0.00 0.00]\n",
      "U_A( 7 ):  -2.247 \tP-prev-P-cur:  0.35 - 0.35 \tMAF:  0.5\n",
      "\n",
      "QUERY  8\n",
      "---------\n",
      "Victim delta:  -5.52559287214649e-08\n",
      "Control delta:  [0.00 0.00 0.00 0.00 0.00 -0.00 -0.00 -0.00 0.00 -0.00 -0.00 -0.00 0.00\n",
      " 0.00 0.00 -0.00 0.00 0.00 0.00 0.00]\n",
      "U_A( 8 ):  -3.243 \tP-prev-P-cur:  0.35 - 0.35 \tMAF:  0.5\n",
      "\n",
      "QUERY  9\n",
      "---------\n",
      "Victim delta:  -5.52559287214649e-08\n",
      "Control delta:  [0.00 0.00 0.00 0.00 0.00 -0.00 -0.00 -0.00 0.00 -0.00 -0.00 -0.00 0.00\n",
      " 0.00 0.00 -0.00 0.00 0.00 0.00 0.00]\n",
      "U_A( 9 ):  -4.239 \tP-prev-P-cur:  0.35 - 0.35 \tMAF:  0.5\n",
      "\n",
      "QUERY  10\n",
      "---------\n",
      "Victim delta:  -5.52559287214649e-08\n",
      "Control delta:  [0.00 0.00 0.00 0.00 0.00 -0.00 -0.00 -0.00 0.00 -0.00 -0.00 -0.00 0.00\n",
      " 0.00 0.00 -0.00 0.00 0.00 0.00 0.00]\n",
      "U_A( 10 ):  -5.236 \tP-prev-P-cur:  0.35 - 0.35 \tMAF:  0.5\n",
      "\n",
      "QUERY  11\n",
      "---------\n",
      "Victim delta:  -5.52559287214649e-08\n",
      "Control delta:  [0.00 0.00 0.00 0.00 0.00 -0.00 -0.00 -0.00 0.00 -0.00 -0.00 -0.00 0.00\n",
      " 0.00 0.00 -0.00 0.00 0.00 0.00 0.00]\n",
      "U_A( 11 ):  -6.232 \tP-prev-P-cur:  0.35 - 0.35 \tMAF:  0.5\n",
      "\n",
      "QUERY  12\n",
      "---------\n",
      "Victim delta:  -5.52559287214649e-08\n",
      "Control delta:  [0.00 0.00 0.00 0.00 0.00 -0.00 -0.00 -0.00 0.00 -0.00 -0.00 -0.00 0.00\n",
      " 0.00 0.00 -0.00 0.00 0.00 0.00 0.00]\n",
      "U_A( 12 ):  -7.228 \tP-prev-P-cur:  0.35 - 0.35 \tMAF:  0.5\n",
      "\n",
      "QUERY  13\n",
      "---------\n",
      "Victim delta:  -5.52559287214649e-08\n",
      "Control delta:  [0.00 0.00 0.00 0.00 0.00 -0.00 -0.00 -0.00 0.00 -0.00 -0.00 -0.00 0.00\n",
      " 0.00 0.00 -0.00 0.00 0.00 0.00 0.00]\n",
      "U_A( 13 ):  -8.224 \tP-prev-P-cur:  0.35 - 0.35 \tMAF:  0.5\n",
      "\n",
      "QUERY  14\n",
      "---------\n",
      "Victim delta:  -5.52559287214649e-08\n",
      "Control delta:  [0.00 0.00 0.00 0.00 0.00 -0.00 -0.00 -0.00 0.00 -0.00 -0.00 -0.00 0.00\n",
      " 0.00 0.00 -0.00 0.00 0.00 0.00 0.00]\n",
      "U_A( 14 ):  -9.221 \tP-prev-P-cur:  0.35 - 0.35 \tMAF:  0.5\n",
      "\n",
      "QUERY  15\n",
      "---------\n",
      "Victim delta:  -5.52559287214649e-08\n",
      "Control delta:  [0.00 0.00 0.00 0.00 0.00 -0.00 -0.00 -0.00 0.00 -0.00 -0.00 -0.00 0.00\n",
      " 0.00 0.00 -0.00 0.00 0.00 0.00 0.00]\n",
      "U_A( 15 ):  -10.217 \tP-prev-P-cur:  0.35 - 0.35 \tMAF:  0.5\n",
      "\n",
      "QUERY  1\n",
      "---------\n",
      "U_S( 1 ):  -4.977 \tPrev-Cur:  61.0 - 61.0 \tMAF:  0.482\n",
      "[1.00 1.00 1.00 1.00 1.00 1.00 1.00 1.00 1.00 1.00 1.00 1.00 1.00 1.00\n",
      " 1.00 1.00 1.00 1.00 1.00 1.00 1.00 1.00 1.00 1.00 1.00 1.00 1.00 1.00\n",
      " 1.00 1.00 1.00 1.00 1.00 1.00 1.00 1.00 1.00 1.00 1.00 1.00 1.00 1.00\n",
      " 1.00 1.00 1.00 1.00 1.00 1.00 1.00 1.00 1.00 1.00 1.00 1.00 1.00 1.00\n",
      " 1.00 1.00 1.00 1.00 1.00]\n",
      "QUERY  2\n",
      "---------\n",
      "U_S( 2 ):  -5.491 \tPrev-Cur:  61.0 - 61.0 \tMAF:  0.447\n",
      "[1.00 1.00 1.00 1.00 1.00 1.00 1.00 1.00 1.00 1.00 1.00 1.00 1.00 1.00\n",
      " 1.00 1.00 1.00 1.00 1.00 1.00 1.00 1.00 1.00 1.00 1.00 1.00 1.00 1.00\n",
      " 1.00 1.00 1.00 1.00 1.00 1.00 1.00 1.00 1.00 1.00 1.00 1.00 1.00 1.00\n",
      " 1.00 1.00 1.00 1.00 1.00 1.00 1.00 1.00 1.00 1.00 1.00 1.00 1.00 1.00\n",
      " 1.00 1.00 1.00 1.00 1.00]\n",
      "QUERY  3\n",
      "---------\n",
      "U_S( 3 ):  -14.019 \tPrev-Cur:  61.0 - 48.2 \tMAF:  0.128\n",
      "[1.00 0.20 1.00 1.00 0.20 1.00 1.00 1.00 0.20 1.00 1.00 1.00 1.00 1.00\n",
      " 1.00 0.20 1.00 1.00 1.00 0.20 1.00 0.20 0.20 1.00 1.00 1.00 1.00 1.00\n",
      " 0.20 0.20 1.00 0.20 1.00 1.00 1.00 0.20 1.00 0.20 1.00 0.20 1.00 1.00\n",
      " 1.00 1.00 1.00 1.00 1.00 1.00 1.00 1.00 1.00 0.20 1.00 1.00 1.00 0.20\n",
      " 1.00 1.00 1.00 1.00 0.20]\n",
      "QUERY  4\n",
      "---------\n",
      "U_S( 4 ):  -5.296 \tPrev-Cur:  48.2 - 48.2 \tMAF:  0.46\n",
      "[1.00 0.20 1.00 1.00 0.20 1.00 1.00 1.00 0.20 1.00 1.00 1.00 1.00 1.00\n",
      " 1.00 0.20 1.00 1.00 1.00 0.20 1.00 0.20 0.20 1.00 1.00 1.00 1.00 1.00\n",
      " 0.20 0.20 1.00 0.20 1.00 1.00 1.00 0.20 1.00 0.20 1.00 0.20 1.00 1.00\n",
      " 1.00 1.00 1.00 1.00 1.00 1.00 1.00 1.00 1.00 0.20 1.00 1.00 1.00 0.20\n",
      " 1.00 1.00 1.00 1.00 0.20]\n",
      "QUERY  5\n",
      "---------\n",
      "U_S( 5 ):  -4.796 \tPrev-Cur:  48.2 - 48.2 \tMAF:  0.495\n",
      "[1.00 0.20 1.00 1.00 0.20 1.00 1.00 1.00 0.20 1.00 1.00 1.00 1.00 1.00\n",
      " 1.00 0.20 1.00 1.00 1.00 0.20 1.00 0.20 0.20 1.00 1.00 1.00 1.00 1.00\n",
      " 0.20 0.20 1.00 0.20 1.00 1.00 1.00 0.20 1.00 0.20 1.00 0.20 1.00 1.00\n",
      " 1.00 1.00 1.00 1.00 1.00 1.00 1.00 1.00 1.00 0.20 1.00 1.00 1.00 0.20\n",
      " 1.00 1.00 1.00 1.00 0.20]\n",
      "QUERY  6\n",
      "---------\n",
      "U_S( 6 ):  -4.727 \tPrev-Cur:  48.2 - 48.2 \tMAF:  0.5\n",
      "[1.00 0.20 1.00 1.00 0.20 1.00 1.00 1.00 0.20 1.00 1.00 1.00 1.00 1.00\n",
      " 1.00 0.20 1.00 1.00 1.00 0.20 1.00 0.20 0.20 1.00 1.00 1.00 1.00 1.00\n",
      " 0.20 0.20 1.00 0.20 1.00 1.00 1.00 0.20 1.00 0.20 1.00 0.20 1.00 1.00\n",
      " 1.00 1.00 1.00 1.00 1.00 1.00 1.00 1.00 1.00 0.20 1.00 1.00 1.00 0.20\n",
      " 1.00 1.00 1.00 1.00 0.20]\n",
      "QUERY  7\n",
      "---------\n",
      "U_S( 7 ):  -4.727 \tPrev-Cur:  48.2 - 48.2 \tMAF:  0.5\n",
      "[1.00 0.20 1.00 1.00 0.20 1.00 1.00 1.00 0.20 1.00 1.00 1.00 1.00 1.00\n",
      " 1.00 0.20 1.00 1.00 1.00 0.20 1.00 0.20 0.20 1.00 1.00 1.00 1.00 1.00\n",
      " 0.20 0.20 1.00 0.20 1.00 1.00 1.00 0.20 1.00 0.20 1.00 0.20 1.00 1.00\n",
      " 1.00 1.00 1.00 1.00 1.00 1.00 1.00 1.00 1.00 0.20 1.00 1.00 1.00 0.20\n",
      " 1.00 1.00 1.00 1.00 0.20]\n",
      "QUERY  8\n",
      "---------\n",
      "U_S( 8 ):  -4.727 \tPrev-Cur:  48.2 - 48.2 \tMAF:  0.5\n",
      "[1.00 0.20 1.00 1.00 0.20 1.00 1.00 1.00 0.20 1.00 1.00 1.00 1.00 1.00\n",
      " 1.00 0.20 1.00 1.00 1.00 0.20 1.00 0.20 0.20 1.00 1.00 1.00 1.00 1.00\n",
      " 0.20 0.20 1.00 0.20 1.00 1.00 1.00 0.20 1.00 0.20 1.00 0.20 1.00 1.00\n",
      " 1.00 1.00 1.00 1.00 1.00 1.00 1.00 1.00 1.00 0.20 1.00 1.00 1.00 0.20\n",
      " 1.00 1.00 1.00 1.00 0.20]\n",
      "QUERY  9\n",
      "---------\n",
      "U_S( 9 ):  -4.727 \tPrev-Cur:  48.2 - 48.2 \tMAF:  0.5\n",
      "[1.00 0.20 1.00 1.00 0.20 1.00 1.00 1.00 0.20 1.00 1.00 1.00 1.00 1.00\n",
      " 1.00 0.20 1.00 1.00 1.00 0.20 1.00 0.20 0.20 1.00 1.00 1.00 1.00 1.00\n",
      " 0.20 0.20 1.00 0.20 1.00 1.00 1.00 0.20 1.00 0.20 1.00 0.20 1.00 1.00\n",
      " 1.00 1.00 1.00 1.00 1.00 1.00 1.00 1.00 1.00 0.20 1.00 1.00 1.00 0.20\n",
      " 1.00 1.00 1.00 1.00 0.20]\n",
      "QUERY  10\n",
      "---------\n",
      "U_S( 10 ):  -4.727 \tPrev-Cur:  48.2 - 48.2 \tMAF:  0.5\n",
      "[1.00 0.20 1.00 1.00 0.20 1.00 1.00 1.00 0.20 1.00 1.00 1.00 1.00 1.00\n",
      " 1.00 0.20 1.00 1.00 1.00 0.20 1.00 0.20 0.20 1.00 1.00 1.00 1.00 1.00\n",
      " 0.20 0.20 1.00 0.20 1.00 1.00 1.00 0.20 1.00 0.20 1.00 0.20 1.00 1.00\n",
      " 1.00 1.00 1.00 1.00 1.00 1.00 1.00 1.00 1.00 0.20 1.00 1.00 1.00 0.20\n",
      " 1.00 1.00 1.00 1.00 0.20]\n",
      "QUERY  11\n",
      "---------\n",
      "U_S( 11 ):  -4.727 \tPrev-Cur:  48.2 - 48.2 \tMAF:  0.5\n",
      "[1.00 0.20 1.00 1.00 0.20 1.00 1.00 1.00 0.20 1.00 1.00 1.00 1.00 1.00\n",
      " 1.00 0.20 1.00 1.00 1.00 0.20 1.00 0.20 0.20 1.00 1.00 1.00 1.00 1.00\n",
      " 0.20 0.20 1.00 0.20 1.00 1.00 1.00 0.20 1.00 0.20 1.00 0.20 1.00 1.00\n",
      " 1.00 1.00 1.00 1.00 1.00 1.00 1.00 1.00 1.00 0.20 1.00 1.00 1.00 0.20\n",
      " 1.00 1.00 1.00 1.00 0.20]\n",
      "QUERY  12\n",
      "---------\n",
      "U_S( 12 ):  -4.727 \tPrev-Cur:  48.2 - 48.2 \tMAF:  0.5\n",
      "[1.00 0.20 1.00 1.00 0.20 1.00 1.00 1.00 0.20 1.00 1.00 1.00 1.00 1.00\n",
      " 1.00 0.20 1.00 1.00 1.00 0.20 1.00 0.20 0.20 1.00 1.00 1.00 1.00 1.00\n",
      " 0.20 0.20 1.00 0.20 1.00 1.00 1.00 0.20 1.00 0.20 1.00 0.20 1.00 1.00\n",
      " 1.00 1.00 1.00 1.00 1.00 1.00 1.00 1.00 1.00 0.20 1.00 1.00 1.00 0.20\n",
      " 1.00 1.00 1.00 1.00 0.20]\n",
      "QUERY  13\n",
      "---------\n"
     ]
    },
    {
     "name": "stdout",
     "output_type": "stream",
     "text": [
      "U_S( 13 ):  -4.727 \tPrev-Cur:  48.2 - 48.2 \tMAF:  0.5\n",
      "[1.00 0.20 1.00 1.00 0.20 1.00 1.00 1.00 0.20 1.00 1.00 1.00 1.00 1.00\n",
      " 1.00 0.20 1.00 1.00 1.00 0.20 1.00 0.20 0.20 1.00 1.00 1.00 1.00 1.00\n",
      " 0.20 0.20 1.00 0.20 1.00 1.00 1.00 0.20 1.00 0.20 1.00 0.20 1.00 1.00\n",
      " 1.00 1.00 1.00 1.00 1.00 1.00 1.00 1.00 1.00 0.20 1.00 1.00 1.00 0.20\n",
      " 1.00 1.00 1.00 1.00 0.20]\n",
      "QUERY  14\n",
      "---------\n",
      "U_S( 14 ):  -4.727 \tPrev-Cur:  48.2 - 48.2 \tMAF:  0.5\n",
      "[1.00 0.20 1.00 1.00 0.20 1.00 1.00 1.00 0.20 1.00 1.00 1.00 1.00 1.00\n",
      " 1.00 0.20 1.00 1.00 1.00 0.20 1.00 0.20 0.20 1.00 1.00 1.00 1.00 1.00\n",
      " 0.20 0.20 1.00 0.20 1.00 1.00 1.00 0.20 1.00 0.20 1.00 0.20 1.00 1.00\n",
      " 1.00 1.00 1.00 1.00 1.00 1.00 1.00 1.00 1.00 0.20 1.00 1.00 1.00 0.20\n",
      " 1.00 1.00 1.00 1.00 0.20]\n",
      "QUERY  15\n",
      "---------\n",
      "U_S( 15 ):  -4.727 \tPrev-Cur:  48.2 - 48.2 \tMAF:  0.5\n",
      "[1.00 0.20 1.00 1.00 0.20 1.00 1.00 1.00 0.20 1.00 1.00 1.00 1.00 1.00\n",
      " 1.00 0.20 1.00 1.00 1.00 0.20 1.00 0.20 0.20 1.00 1.00 1.00 1.00 1.00\n",
      " 0.20 0.20 1.00 0.20 1.00 1.00 1.00 0.20 1.00 0.20 1.00 0.20 1.00 1.00\n",
      " 1.00 1.00 1.00 1.00 1.00 1.00 1.00 1.00 1.00 0.20 1.00 1.00 1.00 0.20\n",
      " 1.00 1.00 1.00 1.00 0.20]\n"
     ]
    }
   ],
   "source": [
    "# Attacker Utility\n",
    "attacker_utility = np.zeros(num_query)\n",
    "\n",
    "# Previous p-value\n",
    "p_victim_prev = 1\n",
    "\n",
    "for i in range(num_query):\n",
    "    print(\"QUERY \", i+1)\n",
    "    print(\"---------\")\n",
    "    # Current p-value\n",
    "    victim_delta, control_delta = optimal_lrt(victim, a_control, s_beacon, A[:i+1], S[:i+1], i+1)\n",
    "    print(\"Victim delta: \", victim_delta)\n",
    "    print(\"Control delta: \", control_delta)\n",
    "    p_victim_current = p_value(victim_delta, control_delta)\n",
    "    \n",
    "    # Gain-Loss=Utility\n",
    "    attacker_utility[i] = utility_attacker(A[i], S[i], p_victim_prev, p_victim_current, i+1, hps)\n",
    "\n",
    "    print(\"U_A(\",i+1,\"): \", round(attacker_utility[i], 3), \"\\tP-prev-P-cur: \",p_victim_prev,\"-\",p_victim_current, \"\\tMAF: \", maf.iloc[A[i]][\"maf\"])\n",
    "    print()\n",
    "\n",
    "    p_victim_prev = p_victim_current\n",
    "\n",
    "# Sharer Utility\n",
    "sharer_utility = np.zeros(num_query)\n",
    "\n",
    "# Previous p-value\n",
    "p_donors_prev = np.ones(s_beacon.shape[1])\n",
    "\n",
    "for i in range(num_query):\n",
    "    print(\"QUERY \", i+1)\n",
    "    print(\"---------\")\n",
    "    # Current p-value\n",
    "    p_donors_current = np.zeros(s_beacon.shape[1])\n",
    "\n",
    "    for j in range(s_beacon.shape[1]):\n",
    "        victim_delta, control_delta = optimal_lrt(s_beacon[:, j], s_control, s_beacon, A[:i+1], S[:i+1], i+1)\n",
    "        p_donors_current[j] = p_value(victim_delta, control_delta)\n",
    "    \n",
    "    sharer_utility[i] =  utility_sharer(A[i], S[i], p_donors_prev, p_donors_current, hps)\n",
    "    print(\"U_S(\",i+1,\"): \", round(sharer_utility[i], 3), \"\\tPrev-Cur: \",round(np.sum(p_donors_prev),2),\"-\",round(np.sum(p_donors_current),2), \"\\tMAF: \", maf.iloc[A[i]][\"maf\"])\n",
    "    print(p_donors_current)\n",
    "    p_donors_prev = p_donors_current"
   ]
  },
  {
   "cell_type": "code",
   "execution_count": 128,
   "metadata": {},
   "outputs": [
    {
     "data": {
      "text/plain": [
       "<matplotlib.legend.Legend at 0x7f3973030bd0>"
      ]
     },
     "execution_count": 128,
     "metadata": {},
     "output_type": "execute_result"
    },
    {
     "data": {
      "image/png": "[encoded data removed]",
      "text/plain": [
       "<Figure size 432x288 with 1 Axes>"
      ]
     },
     "metadata": {
      "needs_background": "light"
     },
     "output_type": "display_data"
    }
   ],
   "source": [
    "plt.plot(attacker_utility, label=\"Attacker\")\n",
    "plt.plot(sharer_utility, label=\"Sharer\")\n",
    "plt.xlabel(\"Query\")\n",
    "plt.ylabel(\"Utility\")\n",
    "plt.legend()"
   ]
  },
  {
   "cell_type": "code",
   "execution_count": 129,
   "metadata": {},
   "outputs": [
    {
     "data": {
      "text/plain": [
       "<matplotlib.legend.Legend at 0x7f3972fae710>"
      ]
     },
     "execution_count": 129,
     "metadata": {},
     "output_type": "execute_result"
    },
    {
     "data": {
      "image/png": "[encoded data removed]",
      "text/plain": [
       "<Figure size 432x288 with 1 Axes>"
      ]
     },
     "metadata": {
      "needs_background": "light"
     },
     "output_type": "display_data"
    }
   ],
   "source": [
    "plt.plot(np.cumsum(attacker_utility), label=\"Attacker\")\n",
    "plt.plot(np.cumsum(sharer_utility), label=\"Sharer\")\n",
    "plt.xlabel(\"Query\")\n",
    "plt.ylabel(\"Utility\")\n",
    "plt.legend()"
   ]
  },
  {
   "cell_type": "code",
   "execution_count": null,
   "metadata": {},
   "outputs": [],
   "source": []
  },
  {
   "cell_type": "code",
   "execution_count": null,
   "metadata": {},
   "outputs": [],
   "source": []
  },
  {
   "cell_type": "code",
   "execution_count": null,
   "metadata": {},
   "outputs": [],
   "source": []
  },
  {
   "cell_type": "code",
   "execution_count": null,
   "metadata": {},
   "outputs": [],
   "source": []
  },
  {
   "cell_type": "code",
   "execution_count": null,
   "metadata": {},
   "outputs": [],
   "source": []
  },
  {
   "cell_type": "code",
   "execution_count": null,
   "metadata": {},
   "outputs": [],
   "source": []
  },
  {
   "cell_type": "markdown",
   "metadata": {},
   "source": [
    "###### Optimization Trials"
   ]
  },
  {
   "cell_type": "code",
   "execution_count": null,
   "metadata": {},
   "outputs": [],
   "source": [
    "for i in range(num_query):\n",
    "    print(\"QUERY \", i+1)\n",
    "    print(\"---------\")\n",
    "    # Current p-value\n",
    "    victim_delta, control_delta = optimal_lrt(victim, a_control, s_beacon, A[:i+1], S[:i+1], i+1)\n",
    "    print(\"Victim delta: \", victim_delta)\n",
    "    print(\"Control delta: \", control_delta)\n",
    "    p_victim_current = p_value(victim_delta, control_delta)\n",
    "    \n",
    "    # Gain-Loss=Utility\n",
    "    attacker_utility[i] = utility_attacker(A[i], S[i], p_victim_prev, p_victim_current, hps)\n",
    "\n",
    "    print(\"U_A(\",i+1,\"): \", round(attacker_utility[i], 3), \"\\tP-prev-P-cur: \",p_victim_prev,\"-\",p_victim_current, \"\\tMAF: \", maf.iloc[A[i]][\"maf\"])\n",
    "    print()\n",
    "\n",
    "    p_victim_prev = p_victim_current\n",
    "\n",
    "# Sharer Utility\n",
    "sharer_utility = np.zeros(num_query)\n",
    "\n",
    "# Previous p-value\n",
    "p_donors_prev = np.ones(s_beacon.shape[1])\n",
    "\n",
    "for i in range(num_query):\n",
    "    print(\"QUERY \", i+1)\n",
    "    print(\"---------\")\n",
    "    # Current p-value\n",
    "    p_donors_current = np.zeros(s_beacon.shape[1])\n",
    "\n",
    "    for j in range(s_beacon.shape[1]):\n",
    "        victim_delta, control_delta = optimal_lrt(s_beacon[:, j], s_control, s_beacon, A[:i+1], S[:i+1], i+1)\n",
    "        p_donors_current[j] = p_value(victim_delta, control_delta)\n",
    "    \n",
    "    sharer_utility[i] =  utility_sharer(A[i], S[i], p_donors_prev, p_donors_current, hps)\n",
    "    print(\"U_S(\",i+1,\"): \", round(sharer_utility[i], 3), \"\\tPrev-Cur: \",round(np.sum(p_donors_prev),2),\"-\",round(np.sum(p_donors_current),2), \"\\tMAF: \", maf.iloc[A[i]][\"maf\"])\n",
    "    print()\n",
    "    p_donors_prev = p_donors_current"
   ]
  },
  {
   "cell_type": "code",
   "execution_count": null,
   "metadata": {},
   "outputs": [],
   "source": []
  },
  {
   "cell_type": "code",
   "execution_count": null,
   "metadata": {},
   "outputs": [],
   "source": []
  },
  {
   "cell_type": "code",
   "execution_count": null,
   "metadata": {},
   "outputs": [],
   "source": [
    "# Game scenario\n",
    "num_query = 40\n",
    "rares = maf.iloc[np.where(victim)].sort_values(\"maf\").iloc[0:1].index.values\n",
    "A = np.random.choice(beacon.shape[0], num_query)\n",
    "A[:len(rares)] = rares\n",
    "S = np.random.uniform(low=0.95, high=1, size=(num_query,))\n",
    "S = np.ones(num_query)\n",
    "hps = np.random.uniform(low=0.9, high=1, size=(6,))\n",
    "print(victim[A])\n",
    "print(a_control[A])"
   ]
  },
  {
   "cell_type": "code",
   "execution_count": null,
   "metadata": {},
   "outputs": [],
   "source": []
  },
  {
   "cell_type": "code",
   "execution_count": null,
   "metadata": {},
   "outputs": [],
   "source": [
    "rares = maf.iloc[np.where(victim)].sort_values(\"maf\").iloc[0:1].index.values\n",
    "rares"
   ]
  },
  {
   "cell_type": "code",
   "execution_count": null,
   "metadata": {},
   "outputs": [],
   "source": []
  },
  {
   "cell_type": "code",
   "execution_count": null,
   "metadata": {},
   "outputs": [],
   "source": []
  },
  {
   "cell_type": "code",
   "execution_count": null,
   "metadata": {},
   "outputs": [],
   "source": []
  },
  {
   "cell_type": "code",
   "execution_count": null,
   "metadata": {},
   "outputs": [],
   "source": []
  },
  {
   "cell_type": "code",
   "execution_count": null,
   "metadata": {},
   "outputs": [],
   "source": []
  },
  {
   "cell_type": "code",
   "execution_count": null,
   "metadata": {},
   "outputs": [],
   "source": []
  },
  {
   "cell_type": "code",
   "execution_count": null,
   "metadata": {},
   "outputs": [],
   "source": []
  },
  {
   "cell_type": "code",
   "execution_count": null,
   "metadata": {},
   "outputs": [],
   "source": []
  },
  {
   "cell_type": "code",
   "execution_count": null,
   "metadata": {},
   "outputs": [],
   "source": []
  },
  {
   "cell_type": "markdown",
   "metadata": {},
   "source": [
    "# STASH"
   ]
  },
  {
   "cell_type": "code",
   "execution_count": null,
   "metadata": {},
   "outputs": [],
   "source": [
    "'''\n",
    "#ternary = binary.copy()\n",
    "#ternary[beacon.values==\"NN\"] = -1\n",
    "\n",
    "def lrt_calculate(victim, control_people, beacon, ai, si, num_query):\n",
    "    victim_delta = 0\n",
    "    control_size = control_people.shape[1]\n",
    "    beacon_size = beacon.shape[1]\n",
    "    control_delta = np.zeros(control_size)\n",
    "\n",
    "    for i in range(num_query):\n",
    "        # Query the beacon\n",
    "        response = beacon[ai[i]].any(axis=0)*si[i]\n",
    "\n",
    "        # Victim delta\n",
    "        victim_delta += calculate_sb_delta(beacon_size, response, 1) * victim[ai[i]]\n",
    "\n",
    "        # Control delta\n",
    "        control_delta += calculate_sb_delta(beacon_size, response, 1) * control_people[ai[i]]\n",
    "\n",
    "    return victim_delta, control_delta\n",
    "    \n",
    "    \n",
    "victim_delta = 0\n",
    "a_control_delta = np.zeros(60)\n",
    "\n",
    "for i in range(num_query):\n",
    "    # Query the beacon\n",
    "    response = s_beacon[ai[i]].any(axis=0)#*si[i]\n",
    "    \n",
    "    # Victim delta\n",
    "    victim_delta += calculate_sb_delta(60, response, 1) * victim[ai[i]]\n",
    "    \n",
    "    # Control delta\n",
    "    a_control_delta += calculate_sb_delta(60, response, 1) * a_control[ai[i]]\n",
    "    #print(victim_delta, \"-->\", a_control_delta)\n",
    "    \n",
    "    # p-value of the victim\n",
    "    p_victim = np.sum(a_control_delta <= victim_delta) / 60\n",
    "    print(p_victim) \n",
    "'''"
   ]
  }
 ],
 "metadata": {
  "kernelspec": {
   "display_name": "Python 3",
   "language": "python",
   "name": "python3"
  },
  "language_info": {
   "codemirror_mode": {
    "name": "ipython",
    "version": 3
   },
   "file_extension": ".py",
   "mimetype": "text/x-python",
   "name": "python",
   "nbconvert_exporter": "python",
   "pygments_lexer": "ipython3",
   "version": "3.7.6"
  }
 },
 "nbformat": 4,
 "nbformat_minor": 4
}
