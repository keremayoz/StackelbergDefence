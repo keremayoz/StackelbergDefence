{
 "cells": [
  {
   "cell_type": "code",
   "execution_count": 588,
   "metadata": {},
   "outputs": [
    {
     "data": {
      "text/html": [
       "<style>.container { width:75% !important; }</style>"
      ],
      "text/plain": [
       "<IPython.core.display.HTML object>"
      ]
     },
     "metadata": {},
     "output_type": "display_data"
    }
   ],
   "source": [
    "import pandas as pd\n",
    "import numpy as np\n",
    "import random\n",
    "import math\n",
    "import itertools\n",
    "import warnings\n",
    "import pickle\n",
    "import gc\n",
    "import sys\n",
    "import matplotlib.pyplot as plt\n",
    "from os.path import join, isfile\n",
    "from collections import Counter, defaultdict\n",
    "from scipy.special import gamma\n",
    "from itertools import permutations, combinations, combinations_with_replacement, product\n",
    "import timeit\n",
    "import multiprocessing\n",
    "import tqdm\n",
    "import time\n",
    "warnings.filterwarnings('ignore')\n",
    "np.set_printoptions(suppress=True, formatter={'float': lambda x: \"{0:0.2f}\".format(x)})\n",
    "from IPython.core.display import display, HTML\n",
    "display(HTML(\"<style>.container { width:75% !important; }</style>\"))"
   ]
  },
  {
   "cell_type": "markdown",
   "metadata": {},
   "source": [
    "### Step 1: Load Beacon, MAF, Reference and other cached variables"
   ]
  },
  {
   "cell_type": "code",
   "execution_count": 2,
   "metadata": {},
   "outputs": [],
   "source": [
    "mainPath = \"../../data\"\n",
    "beacons = join(mainPath, \"beacon\")\n",
    "ceuPath = join(beacons, \"CEU\")"
   ]
  },
  {
   "cell_type": "code",
   "execution_count": 3,
   "metadata": {},
   "outputs": [],
   "source": [
    "# CEU\n",
    "beacon = pd.read_csv(join(ceuPath, \"Beacon_164.txt\"), index_col=0, delim_whitespace=True)\n",
    "maf = pd.read_csv(join(ceuPath, \"MAF.txt\"), index_col=0, delim_whitespace=True)\n",
    "reference = pickle.load(open(join(ceuPath, \"reference.pickle\"),\"rb\"))"
   ]
  },
  {
   "cell_type": "code",
   "execution_count": 4,
   "metadata": {},
   "outputs": [],
   "source": [
    "binary = np.logical_and(beacon.values != reference, beacon.values != \"NN\").astype(int)\n",
    "\n",
    "maf.rename(columns = {'referenceAllele':'major', 'referenceAlleleFrequency':'major_freq', \n",
    "                      'otherAllele':'minor', 'otherAlleleFrequency':'minor_freq'}, inplace = True)\n",
    "\n",
    "beacon_people = np.arange(65)\n",
    "other_people = np.arange(99)+65\n",
    "all_people = np.arange(164)"
   ]
  },
  {
   "cell_type": "code",
   "execution_count": 5,
   "metadata": {},
   "outputs": [],
   "source": [
    "# Construct beacons and the victim\n",
    "shuffled = np.random.permutation(all_people)\n",
    "\n",
    "victim_ind = shuffled[0]\n",
    "a_cind = shuffled[1:21]\n",
    "s_cind = shuffled[21:41]\n",
    "\n",
    "s_ind = shuffled[41:101]\n",
    "\n",
    "s_beacon = binary[:, np.concatenate([s_ind,np.array([victim_ind])])]\n",
    "#s_beacon = binary[:, s_ind]\n",
    "\n",
    "a_control = binary[:, a_cind]\n",
    "s_control = binary[:, s_cind]\n",
    "\n",
    "victim = binary[:, victim_ind]"
   ]
  },
  {
   "cell_type": "markdown",
   "metadata": {},
   "source": [
    "### Step 2: Function definitions"
   ]
  },
  {
   "cell_type": "markdown",
   "metadata": {},
   "source": [
    "###### SB LRT"
   ]
  },
  {
   "cell_type": "code",
   "execution_count": 6,
   "metadata": {},
   "outputs": [],
   "source": [
    "# n: Num query\n",
    "a=1.6483\n",
    "b=2.2876\n",
    "error=0.001\n",
    "\n",
    "def calculate_sb_delta(num_people, response, n):\n",
    "    DN = gamma(a + b) / (gamma(b) * (2*num_people + a + b)**a)\n",
    "    DN_1 = gamma(a + b) / (gamma(b) * (2*(num_people-1) + a + b)**a)\n",
    "    \n",
    "    B = np.log(DN / (DN_1 * error)) \n",
    "    C = np.log((error * DN_1 * (1 - DN)) / (DN*(1-error*DN_1)))\n",
    "    return n*B + C*response\n",
    "\n",
    "def sb_lrt(victim, control_people, beacon, A, S, num_query):\n",
    "    control_size = control_people.shape[1]\n",
    "    beacon_size = beacon.shape[1]\n",
    "    \n",
    "    response = beacon[A].any(axis=1)*S    \n",
    "    \n",
    "    # Delta\n",
    "    delta = calculate_sb_delta(beacon_size, response, num_query)\n",
    "    \n",
    "    # Victim delta\n",
    "    victim_delta = np.sum(np.dot(delta, victim[A]))\n",
    "    \n",
    "    # Control delta\n",
    "    control_delta = np.dot(delta, control_people[A])\n",
    "\n",
    "    return victim_delta, control_delta"
   ]
  },
  {
   "cell_type": "markdown",
   "metadata": {},
   "source": [
    "###### Optimal LRT"
   ]
  },
  {
   "cell_type": "code",
   "execution_count": 7,
   "metadata": {},
   "outputs": [],
   "source": [
    "# n: Num query\n",
    "\n",
    "def calculate_optimal_delta(num_people, response, n, maf):\n",
    "    DN_i = np.power((1-maf), (2*num_people))\n",
    "    DN_i_1 = np.power((1-maf), (2*num_people-2))\n",
    "    log1 = np.log(DN_i/(error*DN_i_1))\n",
    "    log2 = np.log((error*DN_i_1 * (1-DN_i)) / (DN_i * (1-error*DN_i_1)))\n",
    "    return log1 + log2*response\n",
    "\n",
    "def optimal_lrt(victim, control_people, beacon, A, S, num_query):\n",
    "    control_size = control_people.shape[1]\n",
    "    beacon_size = beacon.shape[1]\n",
    "    response = beacon[A].any(axis=1)*S    \n",
    "    maf_i = maf.iloc[A][\"maf\"].values + 1e-6\n",
    "    # Delta\n",
    "    delta = calculate_optimal_delta(beacon_size, response, num_query, maf_i)\n",
    "    # Victim delta   \n",
    "    victim_delta = np.sum(np.dot(delta, victim[A]))\n",
    "    # Control delta\n",
    "    control_delta = np.dot(delta, control_people[A])\n",
    "    return victim_delta, control_delta"
   ]
  },
  {
   "cell_type": "markdown",
   "metadata": {},
   "source": [
    "###### p-value Function"
   ]
  },
  {
   "cell_type": "code",
   "execution_count": 8,
   "metadata": {},
   "outputs": [],
   "source": [
    "def p_value(victim_delta, control_delta):\n",
    "    return np.sum(control_delta <= victim_delta) / control_delta.shape[0]"
   ]
  },
  {
   "cell_type": "markdown",
   "metadata": {},
   "source": [
    "#### Attacker Utility"
   ]
  },
  {
   "cell_type": "code",
   "execution_count": 120,
   "metadata": {},
   "outputs": [],
   "source": [
    "def utility_sharer(ai, si, p_prevs, p_currents, hps):\n",
    "    # Gain-Loss=Utility\n",
    "    s_gain = -1*hps[2]*(1-si) \n",
    "    s_loss = hps[0]*-np.log(maf.iloc[ai][\"maf\"]+1e-6)/abs(np.log(1e-6))\n",
    "    + hps[1]*np.sum(p_prevs - p_currents)/len(p_prevs)\n",
    "    + hps[3]*np.sum(p_currents <= 0.05)/len(p_currents)\n",
    "    return s_gain-s_loss"
   ]
  },
  {
   "cell_type": "code",
   "execution_count": 121,
   "metadata": {},
   "outputs": [],
   "source": [
    "def utility_attacker(ai, si, p_prev, p_current, num_query, hps):\n",
    "    # Gain-Loss=Utility\n",
    "    a_gain = hps[0]*-np.log(maf.iloc[ai][\"maf\"]+1e-6)/abs(np.log(1e-6)) + hps[1]*(p_prev - p_current)\n",
    "    a_loss = hps[2]*(1-si) + hps[3]*num_query/100\n",
    "    return a_gain-a_loss"
   ]
  },
  {
   "cell_type": "code",
   "execution_count": 112,
   "metadata": {},
   "outputs": [],
   "source": [
    "def U_A_i(ai, si, i, p_prev_victim):\n",
    "    #ai, si, Ai, Si, p_prev, i\n",
    "    # Current p-value\n",
    "    victim_delta, control_delta = optimal_lrt(victim, a_control, s_beacon, ai, si, i)\n",
    "    p_victim_current = p_value(victim_delta, control_delta)\n",
    "    # Gain-Loss=Utility\n",
    "    attacker_utility = utility_attacker(ai[-1], si[-1], p_prev_victim, p_victim_current, i, hps)\n",
    "    return attacker_utility, p_victim_current\n",
    "\n",
    "def U_S_i(ai, si, i, p_prev_donors):\n",
    "    # Current p-value\n",
    "    p_donors_current = np.zeros(s_beacon.shape[1])\n",
    "    for j in range(s_beacon.shape[1]):\n",
    "        victim_delta, control_delta = optimal_lrt(s_beacon[:, j], s_control, s_beacon, ai, si, i)\n",
    "        p_donors_current[j] = p_value(victim_delta, control_delta)\n",
    "    sharer_utility =  utility_sharer(ai[-1], si[-1], p_prev_donors, p_donors_current, hps)\n",
    "    return sharer_utility, p_donors_current"
   ]
  },
  {
   "cell_type": "code",
   "execution_count": 333,
   "metadata": {},
   "outputs": [],
   "source": [
    "def attacker_utility(a,s,num_query):\n",
    "    # Attacker Utility\n",
    "    attacker_utility = np.zeros(num_query)\n",
    "    # Previous p-value\n",
    "    p_victim_prev = 1\n",
    "    for i in range(num_query):\n",
    "        # Gain-Loss=Utility\n",
    "        attacker_utility[i], p_victim_prev = U_A_i(a[:i+1], s[:i+1], i+1, p_victim_prev)\n",
    "    return attacker_utility[-1]\n",
    "\n",
    "def sharer_utility(a,s,num_query):\n",
    "    # Sharer Utility\n",
    "    #sharer_utility = np.zeros(num_query)\n",
    "    sharer_utility = 0\n",
    "    # Previous p-value\n",
    "    p_donors_prev = np.ones(s_beacon.shape[1])\n",
    "    for i in range(num_query):\n",
    "        sharer_utility, p_donors_prev =  U_S_i(a[:i+1], s[:i+1], i+1, p_donors_prev)\n",
    "    return sharer_utility"
   ]
  },
  {
   "cell_type": "markdown",
   "metadata": {},
   "source": [
    "### Tryouts"
   ]
  },
  {
   "cell_type": "code",
   "execution_count": 714,
   "metadata": {},
   "outputs": [
    {
     "name": "stdout",
     "output_type": "stream",
     "text": [
      "Will try at most  58800  iterations\n",
      "[0 0 1 1 0 0 0 0] [ 377886 1434001 1718722  289068 1398701 3959231 1387352 2231441] [0.70 0.80 0.90 1.00]\n"
     ]
    }
   ],
   "source": [
    "num_query = 4\n",
    "hps = np.random.uniform(low=0.9, high=1, size=(6,))\n",
    "\n",
    "A = np.random.choice(s_beacon.shape[0], 8)\n",
    "#all_attacker = np.array(list(combinations(A, num_query)))\n",
    "all_attacker = np.array(list(permutations(A, num_query)))\n",
    "\n",
    "S = np.round(np.arange(0.7,1.05,0.1), 2)\n",
    "#all_sharer = list(combinations_with_replacement(S, num_query))\n",
    "#all_sharer = list(product(S, repeat=num_query))\n",
    "all_sharer = [t[::-1] for t in list(combinations_with_replacement(S, num_query))]\n",
    "print(\"Will try at most \", len(all_attacker)*len(all_sharer), \" iterations\")\n",
    "print(victim[A], A, S)"
   ]
  },
  {
   "cell_type": "markdown",
   "metadata": {},
   "source": [
    "# MULTIPROCESSOR BABY!!!"
   ]
  },
  {
   "cell_type": "code",
   "execution_count": 718,
   "metadata": {},
   "outputs": [],
   "source": [
    "utilities = defaultdict(lambda: defaultdict(lambda:(0,0)))\n",
    "strategies = defaultdict(lambda: defaultdict(lambda:(0,0)))\n",
    "def func(params):\n",
    "    a = params[0]\n",
    "    s = params[1]\n",
    "    us = np.array([np.array([sharer_utility(np.append(a, ai), np.append(s, si), i) + utilities[a+(ai,)][s+(si,)][1] if ai not in a else -np.inf for si in S]) for ai in A])\n",
    "    os = np.argmax(us, axis=1)\n",
    "    bus = us[:, os][:, 0]\n",
    "    # Find optimum strategy for all possible ai\n",
    "    ua = np.array([attacker_utility(np.append(a, ai), np.append(s, S[os[t]]), i) + utilities[a+(ai,)][s+(S[os[t]],)][0] if ai not in a else -np.inf for t, ai in enumerate(A)])\n",
    "    oa = np.argmax(ua)\n",
    "    bua = ua[oa]\n",
    "    return a, s, A[oa], S[os[oa]], bua, bus[oa]\n",
    "\n",
    "for i in range(num_query, 1, -1):\n",
    "    # Generate all possible past strategy combinations\n",
    "    #all_attacker = list(combinations(A, i-1))\n",
    "    all_attacker = list(permutations(A, i-1))\n",
    "    #all_sharer = list(combinations_with_replacement(S, i-1))\n",
    "    all_sharer = [t[::-1] for t in list(combinations_with_replacement(S, i-1))]\n",
    "    # Param grid for multiprocessor pool unit\n",
    "    paramlist = list(product(all_attacker, all_sharer))\n",
    "    pool = multiprocessing.Pool()\n",
    "    res  = pool.map(func,paramlist)\n",
    "    for r in res:\n",
    "        strategies[r[0]][r[1]] = (r[2], r[3])\n",
    "        utilities[r[0]][r[1]] = (r[4], r[5])"
   ]
  },
  {
   "cell_type": "code",
   "execution_count": 719,
   "metadata": {},
   "outputs": [
    {
     "name": "stdout",
     "output_type": "stream",
     "text": [
      "[377886, 3959231, 1434001, 2231441] \t [1.0, 1.0, 1.0, 1.0]\n"
     ]
    }
   ],
   "source": [
    "# Final step, first query\n",
    "us = np.array([np.array([sharer_utility(np.array([ai]), np.array([si]), i) + utilities[tuple([ai])][tuple([si])][1] for si in S]) for ai in A])\n",
    "os = np.argmax(us, axis=1)  \n",
    "bus = us[:, os][:, 0]\n",
    "\n",
    "# Find optimum strategy for all possible ai\n",
    "ua = np.array([attacker_utility(np.array([ai]), np.array([S[os[t]]]), i) + utilities[tuple([ai])][tuple([S[os[t]]])][0] for t, ai in enumerate(A)])\n",
    "oa = np.argmax(ua)\n",
    "bua = ua[oa]\n",
    "\n",
    "# Finally\n",
    "a_str = [A[oa]]\n",
    "s_str = [S[os[oa]]]\n",
    "for i in range(num_query-1):\n",
    "    a, s = strategies[tuple(a_str)][tuple(s_str)]\n",
    "    a_str.append(a)\n",
    "    s_str.append(s)\n",
    "\n",
    "print(a_str, \"\\t\", s_str)"
   ]
  },
  {
   "cell_type": "code",
   "execution_count": 720,
   "metadata": {},
   "outputs": [],
   "source": [
    "attacker_utilities = [0]*num_query\n",
    "sharer_utilities = [0]*num_query\n",
    "for i in range(num_query-1, 0, -1):\n",
    "    #print(a_str[:i+1], \"->\", s_str[:i+1])\n",
    "    #print(utilities[tuple(a_str[:i+1])][tuple(s_str[:i+1])])\n",
    "    #print()\n",
    "    attacker_utilities[i], sharer_utilities[i] = np.array(utilities[tuple(a_str[:i])][tuple(s_str[:i])]) - np.array(utilities[tuple(a_str[:i+1])][tuple(s_str[:i+1])])\n",
    "attacker_utilities[0] = bua - np.array(utilities[tuple(a_str[:1])][tuple(s_str[:1])])[0]\n",
    "sharer_utilities[0] = bus[oa] - np.array(utilities[tuple(a_str[:1])][tuple(s_str[:1])])[1]"
   ]
  },
  {
   "cell_type": "code",
   "execution_count": 721,
   "metadata": {},
   "outputs": [
    {
     "data": {
      "image/png": "[encoded data removed]",
      "text/plain": [
       "<Figure size 432x288 with 1 Axes>"
      ]
     },
     "metadata": {
      "needs_background": "light"
     },
     "output_type": "display_data"
    }
   ],
   "source": [
    "plt.plot(attacker_utilities, label=\"Attacker\")\n",
    "plt.plot(sharer_utilities, label=\"Sharer\")\n",
    "#plt.xlabel(\"Query\")\n",
    "plt.ylabel(\"Utility\")\n",
    "plt.xticks(np.arange(5), np.arange(5)+1)  # Set text labels\n",
    "plt.xticks([])\n",
    "plt.legend()\n",
    "\n",
    "columns = ('1', '2', '3', '4', '5')\n",
    "rows = ('Victim', 'MAF', 'Indices')#, '3', '4', '5')\n",
    "cells = np.vstack([victim[a_str], \n",
    "                   maf.iloc[a_str][\"maf\"].values,\n",
    "                   a_str])\n",
    "\n",
    "# Add a table at the bottom of the axes\n",
    "the_table = plt.table(cellText=cells,\n",
    "                      rowLabels=rows,\n",
    "                      colLabels=columns,\n",
    "                      loc='bottom')"
   ]
  },
  {
   "cell_type": "code",
   "execution_count": null,
   "metadata": {},
   "outputs": [],
   "source": []
  },
  {
   "cell_type": "code",
   "execution_count": null,
   "metadata": {},
   "outputs": [],
   "source": []
  },
  {
   "cell_type": "code",
   "execution_count": null,
   "metadata": {},
   "outputs": [],
   "source": []
  },
  {
   "cell_type": "code",
   "execution_count": null,
   "metadata": {},
   "outputs": [],
   "source": []
  },
  {
   "cell_type": "code",
   "execution_count": null,
   "metadata": {},
   "outputs": [],
   "source": []
  },
  {
   "cell_type": "code",
   "execution_count": null,
   "metadata": {},
   "outputs": [],
   "source": []
  },
  {
   "cell_type": "code",
   "execution_count": null,
   "metadata": {},
   "outputs": [],
   "source": []
  },
  {
   "cell_type": "code",
   "execution_count": null,
   "metadata": {},
   "outputs": [],
   "source": []
  },
  {
   "cell_type": "code",
   "execution_count": null,
   "metadata": {},
   "outputs": [],
   "source": []
  },
  {
   "cell_type": "markdown",
   "metadata": {},
   "source": [
    "# STASH"
   ]
  },
  {
   "cell_type": "code",
   "execution_count": null,
   "metadata": {},
   "outputs": [],
   "source": [
    "'''\n",
    "%%time\n",
    "utilities = defaultdict(lambda: defaultdict(lambda:(0,0)))\n",
    "strategies = defaultdict(lambda: defaultdict(lambda:(0,0)))\n",
    "\n",
    "for i in range(num_query, 1, -1):\n",
    "    # Generate all possible past strategy combinations\n",
    "    all_attacker = list(combinations(A, i-1))\n",
    "    all_sharer = list(combinations_with_replacement(S, i-1))\n",
    "    k = 0\n",
    "    #for a in all_attacker:\n",
    "    #    for s in all_sharer:\n",
    "    for a, s in product(all_attacker, all_sharer):    \n",
    "        # Find optimum strategy for all possible ai \n",
    "        us = np.array([np.array([sharer_utility(np.append(a, ai), np.append(s, si), i) + utilities[a+(ai,)][s+(si,)][1] for si in S]) for ai in A])\n",
    "        os = np.argmax(us, axis=1)\n",
    "        bus = us[:, os][:, 0]\n",
    "\n",
    "        # Find optimum strategy for all possible ai\n",
    "        ua = np.array([attacker_utility(np.append(a, ai), np.append(s, S[os[t]]), i) + utilities[a+(ai,)][s+(S[os[t]],)][0] for t, ai in enumerate(A)])\n",
    "        oa = np.argmax(ua)\n",
    "        bua = ua[oa]\n",
    "\n",
    "        strategies[a][s] = (A[oa], S[os[oa]])\n",
    "        utilities[a][s] = (bua, bus[oa])\n",
    "\n",
    "        k+=1\n",
    "        if k % 1 == 0:\n",
    "            print(\"Completed \", k, \" trials for query: \", i)\n",
    "    break\n",
    "'''"
   ]
  },
  {
   "cell_type": "code",
   "execution_count": null,
   "metadata": {},
   "outputs": [],
   "source": [
    "'''\n",
    "utilities = defaultdict(lambda: defaultdict(lambda:(0,0)))\n",
    "strategies = defaultdict(lambda: defaultdict(lambda:(0,0)))\n",
    "\n",
    "for i in range(num_query, 1, -1):\n",
    "    # Generate all possible past strategy combinations\n",
    "    all_attacker = list(combinations(A, i-1))\n",
    "    all_sharer = list(combinations_with_replacement(S, i-1))\n",
    "    k = 0\n",
    "    for a in all_attacker:\n",
    "        for s in all_sharer:\n",
    "            \n",
    "            start = timeit.default_timer()\n",
    "            # Find optimum strategy for all possible ai \n",
    "            #us = np.array([np.array([sharer_utility(np.append(a, ai), np.append(s, si), i) + utilities[a+(ai,)][s+(si,)][1] for si in S]) for ai in A])\n",
    "            # ORR\n",
    "            us = []\n",
    "            for ai in A:\n",
    "                temp = []\n",
    "                for si in S:\n",
    "                    value = sharer_utility(np.append(a, ai), np.append(s, si), i) + utilities[a+(ai,)][s+(si,)][1]\n",
    "                    temp.append(value)\n",
    "                us.append(np.array(temp))\n",
    "            us = np.array(us)\n",
    "            \n",
    "            os = np.argmax(us, axis=1)\n",
    "            bus = us[:, os][:, 0]\n",
    "            stop1 = timeit.default_timer()\n",
    "            \n",
    "            # Find optimum strategy for all possible ai\n",
    "            ua = np.array([attacker_utility(np.append(a, ai), np.append(s, S[os[t]]), i) + utilities[a+(ai,)][s+(S[os[t]],)][0] for t, ai in enumerate(A)])\n",
    "            oa = np.argmax(ua)\n",
    "            bua = ua[oa]\n",
    "            stop2 = timeit.default_timer()\n",
    "            \n",
    "            strategies[tuple(a)][tuple(s)] = (A[oa], S[os[oa]])\n",
    "            utilities[tuple(a)][tuple(s)] = (bua, bus[oa])\n",
    "            #strategies[a][s] = (A[oa], S[os[oa]])\n",
    "            #utilities[a][s] = (bua, bus[oa])\n",
    "            stop3 = timeit.default_timer()\n",
    "\n",
    "            \n",
    "            k+=1\n",
    "            if k % 40 == 0:\n",
    "                print(\"Completed \", k, \" trials for query: \", i)\n",
    "            stop4 = timeit.default_timer()\n",
    "            print('Times \\nArgmax: ', stop1-start, \"\\nObjective: \", stop2-stop1, \"\\nDict: \", stop3-stop2, \"\\nVerbosity: \", stop4-stop3)  \n",
    "                \n",
    "            break\n",
    "        break\n",
    "    break\n",
    "    # Now we have the best strategies for step\n",
    "#print(utilities, strategies)\n",
    "'''"
   ]
  },
  {
   "cell_type": "code",
   "execution_count": null,
   "metadata": {},
   "outputs": [],
   "source": [
    "'''\n",
    "# Attacker Utility\n",
    "attacker_utility = np.zeros(num_query)\n",
    "\n",
    "# Previous p-value\n",
    "p_victim_prev = 1\n",
    "\n",
    "for i in range(num_query):\n",
    "    print(\"QUERY \", i+1)\n",
    "    print(\"---------\")\n",
    "    # Current p-value\n",
    "    victim_delta, control_delta = optimal_lrt(victim, a_control, s_beacon, A[:i+1], S[:i+1], i+1)\n",
    "    print(\"Victim delta: \", victim_delta)\n",
    "    print(\"Control delta: \", control_delta)\n",
    "    p_victim_current = p_value(victim_delta, control_delta)\n",
    "    \n",
    "    # Gain-Loss=Utility\n",
    "    attacker_utility[i] = utility_attacker(A[i], S[i], p_victim_prev, p_victim_current, i+1, hps)\n",
    "\n",
    "    print(\"U_A(\",i+1,\"): \", round(attacker_utility[i], 3), \"\\tP-prev-P-cur: \",p_victim_prev,\"-\",p_victim_current, \"\\tMAF: \", maf.iloc[A[i]][\"maf\"])\n",
    "    print()\n",
    "\n",
    "    p_victim_prev = p_victim_current\n",
    "\n",
    "# Sharer Utility\n",
    "sharer_utility = np.zeros(num_query)\n",
    "\n",
    "# Previous p-value\n",
    "p_donors_prev = np.ones(s_beacon.shape[1])\n",
    "\n",
    "for i in range(num_query):\n",
    "    print(\"QUERY \", i+1)\n",
    "    print(\"---------\")\n",
    "    # Current p-value\n",
    "    p_donors_current = np.zeros(s_beacon.shape[1])\n",
    "\n",
    "    for j in range(s_beacon.shape[1]):\n",
    "        victim_delta, control_delta = optimal_lrt(s_beacon[:, j], s_control, s_beacon, A[:i+1], S[:i+1], i+1)\n",
    "        p_donors_current[j] = p_value(victim_delta, control_delta)\n",
    "    \n",
    "    sharer_utility[i] =  utility_sharer(A[i], S[i], p_donors_prev, p_donors_current, hps)\n",
    "    print(\"U_S(\",i+1,\"): \", round(sharer_utility[i], 3), \"\\tPrev-Cur: \",round(np.sum(p_donors_prev),2),\"-\",round(np.sum(p_donors_current),2), \"\\tMAF: \", maf.iloc[A[i]][\"maf\"])\n",
    "    print(p_donors_current)\n",
    "    p_donors_prev = p_donors_current\n",
    "'''"
   ]
  },
  {
   "cell_type": "code",
   "execution_count": null,
   "metadata": {},
   "outputs": [],
   "source": [
    "'''\n",
    "#ternary = binary.copy()\n",
    "#ternary[beacon.values==\"NN\"] = -1\n",
    "\n",
    "def lrt_calculate(victim, control_people, beacon, ai, si, num_query):\n",
    "    victim_delta = 0\n",
    "    control_size = control_people.shape[1]\n",
    "    beacon_size = beacon.shape[1]\n",
    "    control_delta = np.zeros(control_size)\n",
    "\n",
    "    for i in range(num_query):\n",
    "        # Query the beacon\n",
    "        response = beacon[ai[i]].any(axis=0)*si[i]\n",
    "\n",
    "        # Victim delta\n",
    "        victim_delta += calculate_sb_delta(beacon_size, response, 1) * victim[ai[i]]\n",
    "\n",
    "        # Control delta\n",
    "        control_delta += calculate_sb_delta(beacon_size, response, 1) * control_people[ai[i]]\n",
    "\n",
    "    return victim_delta, control_delta\n",
    "    \n",
    "    \n",
    "victim_delta = 0\n",
    "a_control_delta = np.zeros(60)\n",
    "\n",
    "for i in range(num_query):\n",
    "    # Query the beacon\n",
    "    response = s_beacon[ai[i]].any(axis=0)#*si[i]\n",
    "    \n",
    "    # Victim delta\n",
    "    victim_delta += calculate_sb_delta(60, response, 1) * victim[ai[i]]\n",
    "    \n",
    "    # Control delta\n",
    "    a_control_delta += calculate_sb_delta(60, response, 1) * a_control[ai[i]]\n",
    "    #print(victim_delta, \"-->\", a_control_delta)\n",
    "    \n",
    "    # p-value of the victim\n",
    "    p_victim = np.sum(a_control_delta <= victim_delta) / 60\n",
    "    print(p_victim) \n",
    "'''"
   ]
  }
 ],
 "metadata": {
  "kernelspec": {
   "display_name": "Python 3",
   "language": "python",
   "name": "python3"
  },
  "language_info": {
   "codemirror_mode": {
    "name": "ipython",
    "version": 3
   },
   "file_extension": ".py",
   "mimetype": "text/x-python",
   "name": "python",
   "nbconvert_exporter": "python",
   "pygments_lexer": "ipython3",
   "version": "3.7.6"
  }
 },
 "nbformat": 4,
 "nbformat_minor": 4
}
